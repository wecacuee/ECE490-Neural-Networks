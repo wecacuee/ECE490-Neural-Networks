{
 "cells": [
  {
   "cell_type": "markdown",
   "id": "f1d224a2-0ebf-4c2a-8898-739553c6f627",
   "metadata": {},
   "source": [
    "# Single Layer Neural Networks\n",
    "\n",
    "[Read Chapter 2 and 3 of UDL Book](https://github.com/udlbook/udlbook/blob/main/Understanding_Deep_Learning_01_10_22_C.pdf)\n",
    "\n",
    "\n",
    "\n",
    "*Notes* Single Layer Neural Networks are simplest kind of neural networks. But before we dive into single layer neural networks, may be we should focus on the name _neural_ networks. The name neural networks comes from biological neurons.\n",
    "\n",
    "## Similarities between Artificial neuron and Biological neuron\n",
    "\n",
    "\n",
    "\n",
    "![](imgs/neuron.png)\n",
    "\n",
    "<img src=\"imgs/nn-overlayed-neuron.svg\" style=\"width:600px\" />\n",
    "\n",
    "1. The excitation or firing of a biological neuron can be equated to a high positive value of units ($x_1, x_2, x_3$) in artificial neurons.\n",
    "\n",
    "2. The synapse in biological neuron determines which input excitations will have excitatory or inhibitary impact on output excitations. Synapses can strengthen, weaken, disconnect or form new connections during biological learning. Similarly to excitatory synapes, positive weights can cause positive input values to contribute to positive output values.\n",
    "\n",
    "3. Usually multiple excitatory inputs are required excite the output neuron.\n",
    "\n",
    "References: \n",
    "1. https://openstax.org/books/biology/pages/35-2-how-neurons-communicate\n",
    "\n",
    "## Differences\n",
    "\n",
    "1. Biological neuron is all or None\n",
    "2. Biological neuron has a time component\n",
    "![](imgs/synapse-time-component.png)\n",
    "\n",
    "\n",
    "\n",
    "*notes*\n",
    "1. The activity of the biological neuron is an \"all-or-none\" process. Articial activations are typically continuous range. Even when sigmoid or softmax nonlinearities.\n",
    "\n",
    "2. Biological neuron has time dynamics. The input activations are integrated over time.\n",
    "\n",
    "## Next\n",
    "1. Show a logistic classification/perceptron example. extract 2 features. get some classifications\n",
    "2. Show visualization of optimization and loss functions.\n",
    "3. Build to visualizations in the UDL book. Connect to KD tree and nearest neighbor classification.\n",
    "4. Show the tensflow js visualization.\n",
    "\n",
    "\n",
    "\n",
    "\n",
    "## References\n",
    "1. http://playground.tensorflow.org\n"
   ]
  },
  {
   "cell_type": "code",
   "execution_count": null,
   "id": "c51ca04d",
   "metadata": {},
   "outputs": [],
   "source": []
  }
 ],
 "metadata": {
  "kernelspec": {
   "display_name": "Python 3 (ipykernel)",
   "language": "python",
   "name": "python3"
  },
  "language_info": {
   "codemirror_mode": {
    "name": "ipython",
    "version": 3
   },
   "file_extension": ".py",
   "mimetype": "text/x-python",
   "name": "python",
   "nbconvert_exporter": "python",
   "pygments_lexer": "ipython3",
   "version": "3.9.13"
  }
 },
 "nbformat": 4,
 "nbformat_minor": 5
}
