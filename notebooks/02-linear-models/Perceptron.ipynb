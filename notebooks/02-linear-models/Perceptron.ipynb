{
 "cells": [
  {
   "cell_type": "markdown",
   "id": "cca1f206",
   "metadata": {},
   "source": [
    "Before you turn this problem in, make sure everything runs as expected. First, **restart the kernel** (in the menubar, select Kernel$\\rightarrow$Restart) and then **run all cells** (in the menubar, select Cell$\\rightarrow$Run All).\n",
    "\n",
    "Make sure you fill in any place that says `YOUR CODE HERE` or \"YOUR ANSWER HERE\", as well as your name and collaborators below:"
   ]
  },
  {
   "cell_type": "code",
   "execution_count": null,
   "id": "4bb8135d",
   "metadata": {},
   "outputs": [],
   "source": [
    "NAME = \"\"\n",
    "COLLABORATORS = \"\""
   ]
  },
  {
   "cell_type": "markdown",
   "id": "a7d1d7a2",
   "metadata": {},
   "source": [
    "---"
   ]
  },
  {
   "cell_type": "markdown",
   "id": "0a100bb6",
   "metadata": {
    "slideshow": {
     "slide_type": "slide"
    }
   },
   "source": [
    "# Perceptron"
   ]
  },
  {
   "cell_type": "markdown",
   "id": "19250a1b-70ff-41e8-90ad-7dafc52554f6",
   "metadata": {
    "slideshow": {
     "slide_type": "-"
    }
   },
   "source": [
    "![](https://upload.wikimedia.org/wikipedia/commons/thumb/8/8a/Perceptron_example.svg/500px-Perceptron_example.svg.png)"
   ]
  },
  {
   "cell_type": "markdown",
   "id": "2176b880",
   "metadata": {
    "slideshow": {
     "slide_type": "skip"
    }
   },
   "source": [
    "![](https://upload.wikimedia.org/wikipedia/commons/thumb/c/c4/Perceptron_algorithm.gif/800px-Perceptron_algorithm.gif?20170429203100)"
   ]
  },
  {
   "cell_type": "markdown",
   "id": "34c984bc",
   "metadata": {
    "slideshow": {
     "slide_type": "slide"
    }
   },
   "source": [
    "## Second derivative\n",
    "\n",
    "What is the role of second derivative in optimization?"
   ]
  },
  {
   "cell_type": "markdown",
   "id": "5b96786b-f85f-4b18-a242-7334906a5fcf",
   "metadata": {
    "slideshow": {
     "slide_type": "slide"
    }
   },
   "source": [
    "## Second derivative\n",
    "\n",
    "How do the following functions differ?\n",
    "\n",
    "$$ f(x, y) = 2x^2 + 4y^2 - xy - 6x - 8y  + 6$$ \n",
    "$$ f(x, y) = - 2x^2 - 4y^2 - xy - 6x - 8y  + 6$$ \n",
    "$$ f(x, y) = 2x^2 - 4y^2 - xy - 6x - 8y  + 6$$ "
   ]
  },
  {
   "cell_type": "code",
   "execution_count": null,
   "id": "0c184301",
   "metadata": {
    "slideshow": {
     "slide_type": "skip"
    }
   },
   "outputs": [],
   "source": [
    "import plotly.graph_objects as go\n",
    "import numpy as np\n",
    "def plot_surface(func):\n",
    "    x, y = np.mgrid[-20:20:21j,\n",
    "                    -20:20:21j]\n",
    "    f =  func(x, y)\n",
    "\n",
    "\n",
    "    fig = go.Figure(data=[go.Surface(z=f, x=x, y=y)])\n",
    "    fig.update_traces(contours_z=dict(show=True, usecolormap=True,\n",
    "                                      highlightcolor=\"limegreen\", project_z=True))\n",
    "    fig.show()\n",
    "    "
   ]
  },
  {
   "cell_type": "markdown",
   "id": "20513e1c",
   "metadata": {
    "slideshow": {
     "slide_type": "slide"
    }
   },
   "source": [
    "$$ f(x, y) = 2x^2 + 4y^2 - xy - 6x - 8y  + 6$$ "
   ]
  },
  {
   "cell_type": "code",
   "execution_count": null,
   "id": "38a32b62-c643-4e78-a843-f7ab8c4c2861",
   "metadata": {
    "slideshow": {
     "slide_type": "slide"
    }
   },
   "outputs": [],
   "source": [
    "def f(x, y):\n",
    "    return 2*x**2 + 4*y**2 - x*y - 6*x - 8*y  + 6\n",
    "\n",
    "plot_surface(f)"
   ]
  },
  {
   "cell_type": "markdown",
   "id": "165333fa-e0fa-47ab-bb81-f9cbcdda1011",
   "metadata": {
    "slideshow": {
     "slide_type": "slide"
    }
   },
   "source": [
    "$$ f(x, y) = - 2x^2 - 4y^2 - xy - 6x - 8y  + 6$$ "
   ]
  },
  {
   "cell_type": "code",
   "execution_count": null,
   "id": "50f11dbc-e096-47fb-a2ed-c98a919251dd",
   "metadata": {
    "slideshow": {
     "slide_type": "-"
    }
   },
   "outputs": [],
   "source": [
    "def f(x, y): return - 2*x**2 - 4*y**2 - x*y - 6*x - 8*y  + 6\n",
    "plot_surface(f)"
   ]
  },
  {
   "cell_type": "markdown",
   "id": "0c5d8472",
   "metadata": {
    "slideshow": {
     "slide_type": "slide"
    }
   },
   "source": [
    "$$ f(x, ) = 2x^2 - 4y^2 - xy - 6x - 8y  + 6$$ "
   ]
  },
  {
   "cell_type": "code",
   "execution_count": null,
   "id": "9df16b57-6c42-490d-986b-41fae2ee4353",
   "metadata": {
    "slideshow": {
     "slide_type": "-"
    }
   },
   "outputs": [],
   "source": [
    "def f(x, y): return  2*x**2 - 4*y**2 - x*y - 6*x - 8*y  + 6\n",
    "plot_surface(f)"
   ]
  },
  {
   "cell_type": "markdown",
   "id": "003e86d2",
   "metadata": {
    "slideshow": {
     "slide_type": "slide"
    }
   },
   "source": [
    "## Hessians"
   ]
  },
  {
   "cell_type": "markdown",
   "id": "e17dc727",
   "metadata": {
    "slideshow": {
     "slide_type": "slide"
    }
   },
   "source": [
    "## Contour Plots"
   ]
  },
  {
   "cell_type": "markdown",
   "id": "e75b3310-39c7-4421-8bda-ddeae7decd37",
   "metadata": {
    "slideshow": {
     "slide_type": "-"
    }
   },
   "source": [
    "![](imgs/contourplot.png)"
   ]
  },
  {
   "cell_type": "code",
   "execution_count": null,
   "id": "3da90315",
   "metadata": {
    "slideshow": {
     "slide_type": "skip"
    }
   },
   "outputs": [],
   "source": [
    "def plot_contour(func):\n",
    "    x, y = np.mgrid[-20:20:21j,\n",
    "                    -20:20:21j]\n",
    "    bfx = np.array([x, y])\n",
    "    f = func(x,y)\n",
    "\n",
    "    plt.contour(x, y, f, 20, cmap='Blues_r')\n",
    "    plt.plot([1.8], [1.2], 'ro') \n",
    "    plt.text(1.8+1, 1.2, '$x^*$', color='r')\n",
    "    plt.xlabel('$x$')\n",
    "    plt.ylabel('$y$')\n",
    "    plt.show()\n",
    "    "
   ]
  },
  {
   "cell_type": "code",
   "execution_count": null,
   "id": "c0a924bb-5719-413a-a6b5-211481642c8e",
   "metadata": {
    "slideshow": {
     "slide_type": "-"
    }
   },
   "outputs": [],
   "source": [
    "def f(x, y): return  2*x**2 + 4*y**2 - x*y - 6*x - 8*y  + 6\n",
    "plot_contour(f)"
   ]
  },
  {
   "cell_type": "markdown",
   "id": "f81ec4f4-5f2c-4c95-b79f-eda068744ec4",
   "metadata": {
    "slideshow": {
     "slide_type": "slide"
    }
   },
   "source": [
    "But how about other kinds of functions say:\n",
    "\n",
    "$$ \\arg~\\min_x f(x) = x \\exp(-(x^2 + y^2))$$ "
   ]
  },
  {
   "cell_type": "code",
   "execution_count": null,
   "id": "00431a3c",
   "metadata": {
    "slideshow": {
     "slide_type": "-"
    }
   },
   "outputs": [],
   "source": [
    "def plot_contour(func):\n",
    "    x, y = np.mgrid[-2:2:201j,\n",
    "                    -2:3:201j]\n",
    "    f = func(x,y)\n",
    "\n",
    "    ctr = plt.contour(x, y, f, 10, cmap='Blues_r')\n",
    "    plt.clabel(ctr, ctr.levels, inline=True, fontsize=6)\n",
    "    plt.show()"
   ]
  },
  {
   "cell_type": "code",
   "execution_count": null,
   "id": "78efc640-1f35-4b36-b56b-eb166a966178",
   "metadata": {
    "slideshow": {
     "slide_type": "-"
    }
   },
   "outputs": [],
   "source": [
    "def f(x,y): return  x * np.exp(-(x**2 + y**2))\n",
    "plot_contour(f)"
   ]
  },
  {
   "cell_type": "code",
   "execution_count": null,
   "id": "bf4468ff",
   "metadata": {
    "slideshow": {
     "slide_type": "-"
    }
   },
   "outputs": [],
   "source": [
    "def plot_surface_3d(func):\n",
    "    x, y = np.mgrid[-2:2:201j,\n",
    "                    -2:3:201j]\n",
    "    f = func(x,y)\n",
    "    fig = go.Figure(data=[go.Surface(z=f, x=x, y=y,\n",
    "                                    contours = {\n",
    "                                        \"x\": {\"start\": -2, \"end\": 2, \"size\": 0.2},\n",
    "                                        \"z\": {\"start\": -2, \"end\": 2, \"size\": 0.2}\n",
    "                                    },\n",
    "                                    )])\n",
    "    fig.update_traces(contours_z=dict(show=True, usecolormap=True, project_z=True))\n",
    "    fig.show()"
   ]
  },
  {
   "cell_type": "code",
   "execution_count": null,
   "id": "c22e242a-6257-4b49-bb3a-a89f8e42c907",
   "metadata": {
    "slideshow": {
     "slide_type": "slide"
    }
   },
   "outputs": [],
   "source": [
    "plot_surface_3d(f)"
   ]
  },
  {
   "cell_type": "markdown",
   "id": "8ac265c4",
   "metadata": {
    "slideshow": {
     "slide_type": "slide"
    }
   },
   "source": [
    "## Taylor series"
   ]
  },
  {
   "cell_type": "markdown",
   "id": "354d69b7",
   "metadata": {
    "slideshow": {
     "slide_type": "slide"
    }
   },
   "source": [
    "## Taylor series vectorized"
   ]
  },
  {
   "cell_type": "markdown",
   "id": "7ff76a54",
   "metadata": {},
   "source": [
    "##"
   ]
  },
  {
   "cell_type": "code",
   "execution_count": null,
   "id": "61eb0701-f287-425c-8172-de3f47a29fea",
   "metadata": {
    "slideshow": {
     "slide_type": "skip"
    },
    "tags": []
   },
   "outputs": [],
   "source": [
    "!F=train-images-idx3-ubyte && cd data && \\\n",
    "    [ ! -f $F ] && \\\n",
    "    wget http://yann.lecun.com/exdb/mnist/$F.gz  && \\\n",
    "    gunzip $F.gz\n",
    "!F=train-labels-idx1-ubyte && cd data && \\\n",
    "    [ ! -f $F ] && \\\n",
    "    wget http://yann.lecun.com/exdb/mnist/$F.gz  && \\\n",
    "    gunzip $F.gz"
   ]
  },
  {
   "cell_type": "code",
   "execution_count": null,
   "id": "de1dfdea-79af-4abd-ae9c-55c2c3c01cd2",
   "metadata": {
    "slideshow": {
     "slide_type": "skip"
    },
    "tags": []
   },
   "outputs": [],
   "source": [
    "import struct\n",
    "import numpy as np\n",
    "\n",
    "# Ref:https://github.com/sorki/python-mnist/blob/master/mnist/loader.py\n",
    "def mnist_read_labels(fname='data/train-labels-idx1-ubyte'):\n",
    "    with open(fname, 'rb') as file:\n",
    "        # The file starts with 4 byte 2 unsigned ints \n",
    "        magic, size = struct.unpack('>II', file.read(8))\n",
    "        assert magic == 2049\n",
    "        labels = np.frombuffer(file.read(), dtype='u1')\n",
    "        return labels\n",
    "    \n",
    "# Ref:https://github.com/sorki/python-mnist/blob/master/mnist/loader.py\n",
    "def mnist_read_images(fname='data/train-images-idx3-ubyte'):\n",
    "    with open(fname, 'rb') as file:\n",
    "        # The file starts with 4 byte 4 unsigned ints \n",
    "        magic, size, rows, cols = struct.unpack('>IIII', file.read(16))\n",
    "        assert magic == 2051\n",
    "        image_data = np.frombuffer(file.read(), dtype='u1')\n",
    "        images = image_data.reshape(size, rows, cols)\n",
    "        return images"
   ]
  },
  {
   "cell_type": "code",
   "execution_count": null,
   "id": "17492446",
   "metadata": {
    "slideshow": {
     "slide_type": "skip"
    },
    "tags": []
   },
   "outputs": [],
   "source": [
    "import matplotlib.pyplot as plt\n",
    "import matplotlib.animation as animation\n",
    "import matplotlib as mpl\n",
    "mpl.rc('animation', html='jshtml')\n",
    "train_images = mnist_read_images('data/train-images-idx3-ubyte')\n",
    "labels = mnist_read_labels('data/train-labels-idx1-ubyte')\n",
    "zero_images = train_images[labels==0, ...] # Filter by label == 0\n",
    "one_images = train_images[labels==1, ...] # Filter by label == 1\n",
    "\n",
    "# fig, axes = plt.subplots(2, 10)\n",
    "# for axrow, imgs in zip(axes, (zero_images, one_images)):\n",
    "#     for ax, img in zip(axrow, imgs):    \n",
    "#         ax.imshow(img, cmap='gray', vmin=0, vmax=255)\n",
    "#         ax.axis('off')\n",
    "\n",
    "        \n",
    "fig, ax = plt.subplots()\n",
    "# ims is a list of lists, each row is a list of artists to draw in the\n",
    "# current frame; here we are just animating one artist, the image, in\n",
    "# each frame\n",
    "\n",
    "ims = [[ax.imshow(zero_images[i], animated=True, cmap='gray', vmin=0, vmax=255)]\n",
    "    for i in range(60)]\n",
    "zero_images_anim = animation.ArtistAnimation(fig, ims, interval=50, blit=True,\n",
    "                                repeat_delay=1000, repeat=False)"
   ]
  },
  {
   "cell_type": "code",
   "execution_count": null,
   "id": "96ace721-4b00-4180-a6c9-9f779098a9d9",
   "metadata": {
    "slideshow": {
     "slide_type": "slide"
    },
    "tags": []
   },
   "outputs": [],
   "source": [
    "zero_images_anim"
   ]
  },
  {
   "cell_type": "code",
   "execution_count": null,
   "id": "0cbb88ab",
   "metadata": {
    "slideshow": {
     "slide_type": "skip"
    }
   },
   "outputs": [],
   "source": [
    "fig, ax = plt.subplots()\n",
    "oneims = [[ax.imshow(one_images[i], animated=True, cmap='gray', vmin=0, vmax=255)]\n",
    "    for i in range(60)]\n",
    "one_images_anim = animation.ArtistAnimation(fig, oneims, interval=50, blit=True,\n",
    "                                            repeat_delay=1000, repeat=False)"
   ]
  },
  {
   "cell_type": "code",
   "execution_count": null,
   "id": "8f99252f-e9d5-493d-a16e-e7ea8560a76f",
   "metadata": {
    "slideshow": {
     "slide_type": "slide"
    }
   },
   "outputs": [],
   "source": [
    "one_images_anim"
   ]
  },
  {
   "cell_type": "markdown",
   "id": "9574e534-6242-4c08-9347-e5c1fcfe0cb5",
   "metadata": {
    "slideshow": {
     "slide_type": "slide"
    }
   },
   "source": [
    "# What is a feature\n",
    "\n",
    "Any property of data sample that helps with the task."
   ]
  },
  {
   "cell_type": "code",
   "execution_count": null,
   "id": "de75c7a8-3a7f-4934-b7c6-d86775db964d",
   "metadata": {
    "slideshow": {
     "slide_type": "slide"
    }
   },
   "outputs": [],
   "source": [
    "def feature_n_pxls(imgs):\n",
    "    n, *shape = imgs.shape\n",
    "    return np.sum(imgs[:, :, :].reshape(n, -1) > 128, axis=1)\n",
    "\n",
    "n_pxls_zero_images = feature_n_pxls(zero_images)\n",
    "n_pxls_one_images = feature_n_pxls(one_images)\n",
    "fig, ax = plt.subplots()\n",
    "ax.plot(n_pxls_zero_images, '.')\n",
    "ax.plot(n_pxls_one_images, '+')"
   ]
  },
  {
   "cell_type": "code",
   "execution_count": null,
   "id": "50d1359d-7774-4aad-9bed-545bd398f365",
   "metadata": {
    "slideshow": {
     "slide_type": "slide"
    }
   },
   "outputs": [],
   "source": [
    "fig, ax = plt.subplots()\n",
    "for i in range(5):\n",
    "    ax.plot(zero_images[i].mean(axis=0), 'b-')\n",
    "for i in range(5):\n",
    "    plt.plot(one_images[i].mean(axis=0), 'r-')"
   ]
  },
  {
   "cell_type": "code",
   "execution_count": null,
   "id": "c4263a2b-01d9-4b6c-bfe4-c307e92efc16",
   "metadata": {
    "slideshow": {
     "slide_type": "slide"
    }
   },
   "outputs": [],
   "source": [
    "wts = zero_images[0].mean(axis=0)\n",
    "mean = (np.arange(wts.shape[0]) * wts).sum() / np.sum(wts)\n",
    "var = ((np.arange(wts.shape[0]) - mean)**2 * wts).sum() / np.sum(wts)\n",
    "var"
   ]
  },
  {
   "cell_type": "code",
   "execution_count": null,
   "id": "9fd57644-513b-4639-affd-25eeaad11d83",
   "metadata": {
    "slideshow": {
     "slide_type": "slide"
    }
   },
   "outputs": [],
   "source": [
    "def feature_y_var(img):\n",
    "    wts = img.mean(axis=0)\n",
    "    mean = (np.arange(wts.shape[0]) * wts).sum() / np.sum(wts)\n",
    "    var = ((np.arange(wts.shape[0]) - mean)**2 * wts).sum() / np.sum(wts)\n",
    "    return var\n",
    "feature_y_var(zero_images[0]), feature_y_var(one_images[0])\n"
   ]
  },
  {
   "cell_type": "code",
   "execution_count": null,
   "id": "82c88944-20ec-41f6-b5f9-171a45e04f62",
   "metadata": {},
   "outputs": [],
   "source": [
    "def feature_y_var(imgs):\n",
    "    wts = imgs.mean(axis=-2)\n",
    "    arange = np.arange(wts.shape[-1])\n",
    "    mean = (arange * wts).sum(axis=-1) / wts.sum(axis=-1)\n",
    "    mean = mean[:, np.newaxis]\n",
    "    var = ((arange - mean)**2 * wts).sum(axis=-1) / wts.sum(axis=-1)\n",
    "    return var\n",
    "\n",
    "fig, ax = plt.subplots()\n",
    "ax.plot(feature_y_var(zero_images), '.')\n",
    "ax.plot(feature_y_var(one_images), '+')"
   ]
  },
  {
   "cell_type": "code",
   "execution_count": null,
   "id": "9f93f75c",
   "metadata": {
    "slideshow": {
     "slide_type": "skip"
    }
   },
   "outputs": [],
   "source": [
    "def features_extract(images):\n",
    "    return np.vstack((feature_n_pxls(images),\n",
    "                      feature_y_var(images))).T\n",
    "zero_features = features_extract(zero_images)\n",
    "one_features = features_extract(one_images)\n",
    "\n",
    "\n",
    "def draw_features(ax, zero_features, one_features):\n",
    "    zf = ax.scatter(zero_features[:, 0], zero_features[:, 1], marker='.', label='0', alpha=0.5)\n",
    "    of = ax.scatter(one_features[:, 0], one_features[:, 1], marker='+', label='1', alpha=0.3)\n",
    "    ax.legend()\n",
    "    ax.set_xlabel('Feature 1: count of pixels')\n",
    "    ax.set_ylabel('Feature 2: Variance along x-axis')\n",
    "    return [zf, of] # return list of artists"
   ]
  },
  {
   "cell_type": "code",
   "execution_count": null,
   "id": "c911ae0a-9875-42bf-949d-ebf35fc99ecf",
   "metadata": {
    "slideshow": {
     "slide_type": "slide"
    }
   },
   "outputs": [],
   "source": [
    "fig, ax = plt.subplots()\n",
    "draw_features(ax, zero_features, one_features)\n",
    "plt.show()"
   ]
  },
  {
   "cell_type": "code",
   "execution_count": null,
   "id": "cb9edc78-9dc0-4208-98bd-e46c4f2d81e6",
   "metadata": {
    "slideshow": {
     "slide_type": "skip"
    }
   },
   "outputs": [],
   "source": [
    "bfm = np.ones(2)\n",
    "fig, ax = plt.subplots()\n",
    "draw_features(ax, zero_features, one_features)\n",
    "x = np.linspace(-1, 1, 21)\n",
    "ax.plot(x, x*bfm[0] + bfm[1], 'r-')"
   ]
  },
  {
   "cell_type": "code",
   "execution_count": null,
   "id": "0e57213f-6414-43cf-a4e9-82b544ed82aa",
   "metadata": {
    "slideshow": {
     "slide_type": "skip"
    }
   },
   "outputs": [],
   "source": [
    "bfm = np.ones(2)\n",
    "\n",
    "Y = np.hstack((np.ones(zero_features.shape[0]), np.full(one_features.shape[0], -1.0)))\n",
    "features = np.vstack((zero_features, one_features))\n",
    "FEATURES_MEAN = features.mean(axis=0, keepdims=1)\n",
    "FEATURES_STD = features.std(axis=0, keepdims=1)\n",
    "np.savez('features_stats.npz', mean=FEATURES_MEAN, std=FEATURES_STD)\n",
    "\n",
    "def norm_features(features):\n",
    "    return (features - FEATURES_MEAN) / FEATURES_STD\n",
    "    \n",
    "X = norm_features(features)\n",
    "\n",
    "fig, ax = plt.subplots()\n",
    "draw_features(ax, X[Y > 0, :], X[Y < 0, :])\n",
    "x = np.linspace(-1, 1, 21)\n",
    "ax.plot(x, x*bfm[0] + bfm[1], 'r-')"
   ]
  },
  {
   "cell_type": "code",
   "execution_count": null,
   "id": "990c3636-fd24-4693-8341-de2d2ab26f28",
   "metadata": {
    "deletable": false,
    "nbgrader": {
     "cell_type": "code",
     "checksum": "174dc8e7c8a7e4dc4745258bfd01a5cb",
     "grade": false,
     "grade_id": "cell-8f18079f90bd4caa",
     "locked": false,
     "schema_version": 3,
     "solution": true,
     "task": false
    },
    "tags": []
   },
   "outputs": [],
   "source": [
    "\n",
    "\n",
    "def error(X, Y, bfm):\n",
    "    # YOUR CODE HERE\n",
    "    raise NotImplementedError()\n",
    "\n",
    "def grad_error(Xw, Yw, bfm):\n",
    "    # YOUR CODE HERE\n",
    "    raise NotImplementedError()\n",
    "\n",
    "def train(X, Y, lr = 0.1):\n",
    "    # YOUR CODE HERE\n",
    "    raise NotImplementedError()\n",
    "\n",
    "OPTIMAL_BFM, list_of_bfms, list_of_errors = train(X, Y)\n",
    "fig, ax = plt.subplots()\n",
    "ax.plot(list_of_errors)\n",
    "ax.set_xlabel('t')\n",
    "ax.set_ylabel('loss')\n",
    "plt.show()"
   ]
  },
  {
   "cell_type": "code",
   "execution_count": null,
   "id": "53370a8f-0925-4a08-88ca-0ab00326e787",
   "metadata": {},
   "outputs": [],
   "source": [
    "fig, axes = plt.subplots(2, 1, figsize=(5, 7.5))\n",
    "class Anim:\n",
    "    def __init__(self, fig, axes, X, Y):\n",
    "        self.fig = fig\n",
    "        self.ax = axes[0]\n",
    "        self.ax1 = axes[1]\n",
    "        self.fts = draw_features(self.ax, X[Y > 0, :], X[Y < 0, :])\n",
    "        self.line, = self.ax.plot([], [], 'r-')\n",
    "        \n",
    "        m, c = np.meshgrid(np.linspace(-1, 1, 51), np.linspace(-1, 1, 51))\n",
    "        totalerr = np.empty_like(m)\n",
    "        for i in range(m.shape[0]):\n",
    "            for j in range(m.shape[1]):\n",
    "                err = error(X, Y, [m[i, j], c[i,j]])\n",
    "                totalerr[i, j] = err[err > 0].mean()\n",
    "\n",
    "        self.ctr = self.ax1.contour(m, c, totalerr, 30, cmap='Blues_r')\n",
    "        self.ax1.set_xlabel('m')\n",
    "        self.ax1.set_ylabel('c')\n",
    "        self.ax1.clabel(self.ctr, self.ctr.levels, inline=True, fontsize=6)\n",
    "        self.m_hist = []\n",
    "        self.c_hist = []\n",
    "        self.line2, = self.ax1.plot([], [], 'r*-')\n",
    "\n",
    "        \n",
    "    def anim_init(self):\n",
    "        return (self.line, self.line2)\n",
    "        \n",
    "    def update(self, bfm):\n",
    "        x = np.linspace(-2, 2, 21)\n",
    "        self.line.set_data(x, x * bfm[0] + bfm[1])\n",
    "        self.m_hist.append(bfm[0])\n",
    "        self.c_hist.append(bfm[1])\n",
    "        self.line2.set_data(self.m_hist, self.c_hist)\n",
    "        return self.line, self.line2\n",
    "        \n",
    "a = Anim(fig, axes, X, Y)\n",
    "animation.FuncAnimation(fig, a.update, frames=list_of_bfms[::3],\n",
    "                        init_func=a.anim_init, blit=True, repeat=False)"
   ]
  },
  {
   "cell_type": "code",
   "execution_count": null,
   "id": "ab42be01-5330-45dd-b202-3168d368c4d6",
   "metadata": {},
   "outputs": [],
   "source": [
    "test_images = mnist_read_images('data/t10k-images-idx3-ubyte')\n",
    "test_labels = mnist_read_labels('data/t10k-labels-idx1-ubyte')\n",
    "zero_one_filter = (test_labels == 0) | (test_labels == 1)\n",
    "zero_one_test_images = test_images[zero_one_filter, ...]\n",
    "\n",
    "def returnclasslabel(test_imgs):\n",
    "    Xtest = norm_features(features_extract(test_imgs))\n",
    "    bfm = OPTIMAL_BFM\n",
    "    return np.where(\n",
    "        Xtest[:, 1] - Xtest[:, 0] * bfm[0] - bfm[1] > 0, \n",
    "        0,\n",
    "        1)\n",
    "zero_one_predicted_labels = returnclasslabel(zero_one_test_images)"
   ]
  },
  {
   "cell_type": "code",
   "execution_count": null,
   "id": "47130bbc-64c7-4423-8037-a6d672822103",
   "metadata": {},
   "outputs": [],
   "source": [
    "\n",
    "fig, ax = plt.subplots()\n",
    "artists = []\n",
    "for i in range(60):\n",
    "    artists.append(\n",
    "        [ax.imshow(zero_one_test_images[i], animated=True, cmap='gray', vmin=0, vmax=255),\n",
    "        ax.text(0, 2, 'The number is %d' % zero_one_predicted_labels[i], animated=True, color='w')])\n",
    "animation.ArtistAnimation(fig, artists, interval=50, blit=True,\n",
    "                                repeat_delay=1000, repeat=False)"
   ]
  },
  {
   "cell_type": "markdown",
   "id": "32658306",
   "metadata": {},
   "source": [
    "# Single Layer Neural Networks\n",
    "\n",
    "[Read Chapter 2 and 3 of UDL Book](https://github.com/udlbook/udlbook/blob/main/Understanding_Deep_Learning_01_10_22_C.pdf)\n",
    "\n",
    "\n",
    "\n",
    "*Notes* Single Layer Neural Networks are simplest kind of neural networks. But before we dive into single layer neural networks, may be we should focus on the name _neural_ networks. The name neural networks comes from biological neurons.\n",
    "\n",
    "## Similarities between Artificial neuron and Biological neuron\n",
    "\n",
    "\n",
    "\n",
    "<img src=\"imgs/neuron.png\" style=\"width:400px\" />\n",
    "\n",
    "<img src=\"imgs/nn-overlayed-neuron.svg\" style=\"width:400px\" />\n",
    "\n",
    "1. The excitation or firing of a biological neuron can be equated to a high positive value of units ($x_1, x_2, x_3$) in artificial neurons.\n",
    "\n",
    "2. The synapse in biological neuron determines which input excitations will have excitatory or inhibitary impact on output excitations. Synapses can strengthen, weaken, disconnect or form new connections during biological learning. Similarly to excitatory synapes, positive weights can cause positive input values to contribute to positive output values.\n",
    "\n",
    "3. Usually multiple excitatory inputs are required excite the output neuron.\n",
    "\n",
    "References: \n",
    "1. https://openstax.org/books/biology/pages/35-2-how-neurons-communicate\n",
    "\n",
    "## Differences\n",
    "\n",
    "1. Biological neuron is all or None\n",
    "2. Biological neuron has a time component\n",
    "<img src=\"imgs/synapse-time-component.png\" style=\"width:400px\" />\n",
    "\n",
    "\n",
    "\n",
    "*notes*\n",
    "1. The activity of the biological neuron is an \"all-or-none\" process. Articial activations are typically continuous range. Even when sigmoid or softmax nonlinearities.\n",
    "\n",
    "2. Biological neuron has time dynamics. The input activations are integrated over time."
   ]
  },
  {
   "cell_type": "markdown",
   "id": "2fde187d",
   "metadata": {},
   "source": [
    "## Next\n",
    "\n",
    "2. Show visualization of 1D optimization and loss functions.\n",
    "\n",
    "3. Build to visualizations in the UDL book. Connect to KD tree and nearest neighbor classification.\n",
    "\n",
    "4. Show the tensflow js visualization.\n",
    "\n",
    "\n",
    "\n",
    "\n",
    "## References\n",
    "1. http://playground.tensorflow.org\n",
    "2. https://knowyourdata-tfds.withgoogle.com/#tab=STATS&dataset=tf_flowers\n",
    "3. \"Flowers\", The TensorFlow Team. Jan 2019. Online http://download.tensorflow.org/example_images/flower_photos.tgz"
   ]
  }
 ],
 "metadata": {
  "kernelspec": {
   "display_name": "Python 3 (ipykernel)",
   "language": "python",
   "name": "python3"
  },
  "language_info": {
   "codemirror_mode": {
    "name": "ipython",
    "version": 3
   },
   "file_extension": ".py",
   "mimetype": "text/x-python",
   "name": "python",
   "nbconvert_exporter": "python",
   "pygments_lexer": "ipython3",
   "version": "3.10.9"
  }
 },
 "nbformat": 4,
 "nbformat_minor": 5
}
