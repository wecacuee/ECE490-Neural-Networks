{
 "cells": [
  {
   "cell_type": "markdown",
   "metadata": {},
   "source": [
    "Before you turn this problem in, make sure everything runs as expected. First, **restart the kernel** (in the menubar, select Kernel$\\rightarrow$Restart) and then **run all cells** (in the menubar, select Cell$\\rightarrow$Run All).\n",
    "\n",
    "Make sure you fill in any place that says `YOUR CODE HERE` or \"YOUR ANSWER HERE\", as well as your name and collaborators below:"
   ]
  },
  {
   "cell_type": "code",
   "execution_count": null,
   "metadata": {},
   "outputs": [],
   "source": [
    "NAME = \"\"\n",
    "COLLABORATORS = \"\""
   ]
  },
  {
   "cell_type": "markdown",
   "metadata": {},
   "source": [
    "---"
   ]
  },
  {
   "cell_type": "markdown",
   "metadata": {
    "id": "oz2w3oDx3_1l"
   },
   "source": [
    "## Errors and Exceptions\n",
    "\n",
    "Python supports exception handling.   Errors and exceptions occur when an unexpected event occurs. For example, `SyntaxError`"
   ]
  },
  {
   "cell_type": "code",
   "execution_count": null,
   "metadata": {
    "colab": {
     "base_uri": "https://localhost:8080/",
     "height": 132
    },
    "id": "jSUDNsUEZANt",
    "outputId": "791068cc-7b8c-4d98-b7ad-2c345cca6eca"
   },
   "outputs": [],
   "source": [
    "while True print('Hello world')"
   ]
  },
  {
   "cell_type": "markdown",
   "metadata": {
    "id": "aQzf_D7k3_BD"
   },
   "source": [
    "## Exceptions\n",
    "\n",
    "Exceptions break the \"normal flow\" of the program and *propogates* an exception until it is *catched*. If an exception is not *catched* it causes the program to exit. A few examples"
   ]
  },
  {
   "cell_type": "code",
   "execution_count": null,
   "metadata": {
    "colab": {
     "base_uri": "https://localhost:8080/",
     "height": 167
    },
    "id": "TAg0Uxvs534m",
    "outputId": "82bbe9cc-6fe7-4b08-abbf-18d2882c76cc"
   },
   "outputs": [],
   "source": [
    "10 * (1/0)"
   ]
  },
  {
   "cell_type": "code",
   "execution_count": null,
   "metadata": {
    "colab": {
     "base_uri": "https://localhost:8080/",
     "height": 167
    },
    "id": "zLNCNiTh56Qy",
    "outputId": "0121ba16-14cf-4151-a98c-7bba97f4b600"
   },
   "outputs": [],
   "source": [
    "4 + spam*3"
   ]
  },
  {
   "cell_type": "code",
   "execution_count": null,
   "metadata": {
    "colab": {
     "base_uri": "https://localhost:8080/",
     "height": 167
    },
    "id": "l4QMDUvF58WD",
    "outputId": "8d22c098-7511-496f-c9dc-4fd44549402d"
   },
   "outputs": [],
   "source": [
    "'2' + 2"
   ]
  },
  {
   "cell_type": "markdown",
   "metadata": {
    "id": "L8EjMMwl6CsX"
   },
   "source": [
    "The error types in the example are [ZeroDivisionError](https://docs.python.org/3/library/exceptions.html#ZeroDivisionError), [NameError](https://docs.python.org/3/library/exceptions.html#NameError) and [TypeError](https://docs.python.org/3/library/exceptions.html#ZeroDivisionError)."
   ]
  },
  {
   "cell_type": "markdown",
   "metadata": {
    "id": "GEEUveLi6Ya0"
   },
   "source": [
    "## Handling exceptions\n",
    "\n",
    "To *catch* errors or exception `try` `catch` block is used"
   ]
  },
  {
   "cell_type": "code",
   "execution_count": null,
   "metadata": {
    "colab": {
     "base_uri": "https://localhost:8080/"
    },
    "id": "FPOvXPd66BxX",
    "outputId": "c9ad10a5-5f37-4df9-c9db-90b48152e31a"
   },
   "outputs": [],
   "source": [
    "while True:\n",
    "  try:\n",
    "    x = int(input(\"Please enter a number: \"))\n",
    "    break\n",
    "  except ValueError as err:\n",
    "    print(f\"You entered something that is not a number. Error Type: {type(err)}; Error args: {err.args}\" )\n"
   ]
  },
  {
   "cell_type": "markdown",
   "metadata": {
    "id": "H8QKq63g7TLw"
   },
   "source": [
    "The try statement works as follows.\n",
    "\n",
    "* First, the try clause (the statement(s) between the try and except keywords) is executed.\n",
    "\n",
    "* If no exception occurs, the except clause is skipped and execution of the try statement is finished.\n",
    "\n",
    "* If an exception occurs during execution of the try clause, the rest of the clause is skipped. Then, if its type matches the exception named after the except keyword, the except clause is executed, and then execution continues after the try/except block.\n",
    "\n",
    "* If an exception occurs which does not match the exception named in the except clause, it is passed on to outer try statements; if no handler is found, it is an unhandled exception and execution stops with a message as shown above.\n",
    "\n",
    "A try statement may have more than one except clause, to specify handlers for different exceptions. At most one handler will be executed. Handlers only handle exceptions that occur in the corresponding try clause, not in other handlers of the same try statement. "
   ]
  },
  {
   "cell_type": "markdown",
   "metadata": {
    "id": "WGURYVls9DJr"
   },
   "source": [
    "## Raising Exceptions\n",
    "\n",
    "The raise statement allows the programmer to force a specified exception to occur. For example:"
   ]
  },
  {
   "cell_type": "code",
   "execution_count": null,
   "metadata": {
    "colab": {
     "base_uri": "https://localhost:8080/",
     "height": 167
    },
    "id": "HLaLwa5E9JJ4",
    "outputId": "c605ff46-b582-4532-81ef-c5923381055e"
   },
   "outputs": [],
   "source": [
    "raise NameError('HiThere')"
   ]
  },
  {
   "cell_type": "markdown",
   "metadata": {
    "id": "Em7_Odp39QOu"
   },
   "source": [
    "The sole argument to raise indicates the exception to be raised. This must be either an exception instance or an exception class (a class that derives from BaseException, such as Exception or one of its subclasses). If an exception class is passed, it will be implicitly instantiated by calling its constructor with no arguments.\n",
    "\n",
    "If you need to determine whether an exception was raised but don’t intend to handle it, a simpler form of the raise statement allows you to re-raise the exception:"
   ]
  },
  {
   "cell_type": "code",
   "execution_count": null,
   "metadata": {
    "colab": {
     "base_uri": "https://localhost:8080/",
     "height": 619
    },
    "id": "fhpjIm3S9CFc",
    "outputId": "4b07f53c-eb95-4ec5-8eb9-ddbbdc1894fb"
   },
   "outputs": [],
   "source": [
    "try:\n",
    "    raise NameError('HiThere')\n",
    "except NameError:\n",
    "    print('An exception flew by!')\n",
    "    raise\n",
    "\n"
   ]
  },
  {
   "cell_type": "markdown",
   "metadata": {
    "id": "2CG_nzO--CcW"
   },
   "source": [
    "## Predefined Clean-up Actions\n",
    "\n",
    "Some objects define standard clean-up actions to be undertaken when the object is no longer needed, regardless of whether or not the operation using the object succeeded or failed. Look at the following example, which tries to open a file and print its contents to the screen."
   ]
  },
  {
   "cell_type": "code",
   "execution_count": null,
   "metadata": {
    "colab": {
     "base_uri": "https://localhost:8080/"
    },
    "id": "PjpeoJsR-JBv",
    "outputId": "9e2d8ff4-0b7b-4d0e-d0f3-6b6d88da9a62"
   },
   "outputs": [],
   "source": [
    "%%writefile myfile.txt\n",
    "he Zen of Python, by Tim Peters\n",
    "\n",
    "Beautiful is better than ugly.\n",
    "Explicit is better than implicit.\n",
    "Simple is better than complex.\n",
    "Complex is better than complicated.\n",
    "Flat is better than nested.\n",
    "Sparse is better than dense.\n",
    "Readability counts.\n",
    "Special cases aren't special enough to break the rules.\n",
    "Although practicality beats purity.\n",
    "Errors should never pass silently.\n",
    "Unless explicitly silenced.\n",
    "In the face of ambiguity, refuse the temptation to guess.\n",
    "There should be one-- and preferably only one --obvious way to do it.\n",
    "Although that way may not be obvious at first unless you're Dutch.\n",
    "Now is better than never.\n",
    "Although never is often better than *right* now.\n",
    "If the implementation is hard to explain, it's a bad idea.\n",
    "If the implementation is easy to explain, it may be a good idea.\n",
    "Namespaces are one honking great idea -- let's do more of those!"
   ]
  },
  {
   "cell_type": "code",
   "execution_count": null,
   "metadata": {
    "colab": {
     "base_uri": "https://localhost:8080/"
    },
    "id": "JOwkKvC--axP",
    "outputId": "e259cb52-5df1-4078-fffd-14ddbdd3384b"
   },
   "outputs": [],
   "source": [
    "for line in open(\"myfile.txt\"):\n",
    "  print(line, end=\"\")"
   ]
  },
  {
   "cell_type": "markdown",
   "metadata": {
    "id": "--BTHBkZ-hPQ"
   },
   "source": [
    "\n",
    "The problem with this code is that it leaves the file open for an indeterminate amount of time after this part of the code has finished executing. This is not an issue in simple scripts, but can be a problem for larger applications. The `with` statement allows objects like files to be used in a way that ensures they are always cleaned up promptly and correctly."
   ]
  },
  {
   "cell_type": "code",
   "execution_count": null,
   "metadata": {
    "colab": {
     "base_uri": "https://localhost:8080/"
    },
    "id": "7OkPzvm7-l7y",
    "outputId": "a7cea17e-06b3-4dc8-e997-66012932c904"
   },
   "outputs": [],
   "source": [
    "with open(\"myfile.txt\") as f:\n",
    "    for line in f:\n",
    "        print(line, end=\"\")"
   ]
  },
  {
   "cell_type": "markdown",
   "metadata": {
    "id": "LSp9-BS6_2xp"
   },
   "source": [
    "## Python Data Model\n",
    "\n",
    "*Objects* are Python’s abstraction for data and code. Every object has an identity, a type and a value. An object’s type determines the operations that the object supports (e.g., “does it have a length?”) and also defines the possible values for objects of that type. The `type()` function returns an object’s type (which is an object itself).\n",
    "\n",
    "Objects are never explicitly destroyed; however, when they become unreachable they may be garbage-collected. An implementation is allowed to postpone garbage collection or omit it altogether — it is a matter of implementation quality how garbage collection is implemented, as long as no objects are collected that are still reachable."
   ]
  },
  {
   "cell_type": "markdown",
   "metadata": {
    "id": "nnbRI49gDYsu"
   },
   "source": [
    "## Python operator overloading or special methods\n",
    "\n",
    "\n",
    "####  `object.__len__(self)`\n",
    "\n",
    "    Called to implement the built-in function len(). Should return the length of the object, an integer >= 0. Also, an object that doesn’t define a __bool__() method and whose __len__() method returns zero is considered to be false in a Boolean context."
   ]
  },
  {
   "cell_type": "code",
   "execution_count": null,
   "metadata": {
    "colab": {
     "base_uri": "https://localhost:8080/"
    },
    "id": "YlDlEl5wEYD5",
    "outputId": "cd2756ea-40ab-4ffb-8ad5-01aa6b9fe7a0"
   },
   "outputs": [],
   "source": [
    "class Person:\n",
    "  def __init__(self, name, height):\n",
    "    self.name = name\n",
    "    self.height = height\n",
    "  def __len__(self):\n",
    "    return self.height\n",
    "\n",
    "bradpitt = Person(\"Brad Pitt\", 170)\n",
    "print(len(bradpitt))"
   ]
  },
  {
   "cell_type": "markdown",
   "metadata": {
    "id": "eDc8ScheExed"
   },
   "source": [
    "### Emulating numeric types\n",
    "\n",
    "* `object.__add__(self, other)`\n",
    "* `object.__sub__(self, other)`\n",
    "* `object.__mul__(self, other)`\n",
    "* `object.__matmul__(self, other)`\n",
    "* `object.__truediv__(self, other)`\n",
    "* `object.__floordiv__(self, other)`\n",
    "* `object.__mod__(self, other)`\n",
    "* `object.__divmod__(self, other)`\n",
    "* `object.__pow__(self, other[, modulo])`"
   ]
  },
  {
   "cell_type": "code",
   "execution_count": null,
   "metadata": {
    "colab": {
     "base_uri": "https://localhost:8080/"
    },
    "id": "-E6Q77ECFL3b",
    "outputId": "c4c3d280-9b10-4de6-fc72-9961930d91a6"
   },
   "outputs": [],
   "source": [
    "class Matrix:\n",
    "  def __init__(self, listoflists):\n",
    "    self.nums = listoflists.nums if isinstance(listoflists, Matrix) else listoflists\n",
    "    self.rows = len(self.nums)\n",
    "    self.cols = len(self.nums[0])\n",
    "    if not all(len(r) == self.cols for r in self.nums):\n",
    "      raise ValueError(f\"Invalid matrix: {self.nums}\")\n",
    "  def __add__(self, other):\n",
    "    other = Matrix(other)\n",
    "    if not (self.rows == other.rows and self.cols == other.cols):\n",
    "      raise ValueError(\"Incompatible addition\")\n",
    "    return Matrix([\n",
    "        [mij + omij\n",
    "        for mij, omij in zip(ri, ori)]\n",
    "         for ri, ori in zip(self.nums, other.nums)])\n",
    "  def __repr__(self):\n",
    "    return (\"[[\" +  \n",
    "      \"],\\n[\".join([\", \".join(map(str, r)) for r in self.nums]) +\n",
    "    \"]]\")\n",
    "    \n",
    "A = Matrix([[1, 2, 3],\n",
    "            [4, 5, 6]])\n",
    "B = Matrix([[1, 3, 5],\n",
    "            [2, 4, 6]])\n",
    "A + B"
   ]
  },
  {
   "cell_type": "code",
   "execution_count": null,
   "metadata": {
    "colab": {
     "base_uri": "https://localhost:8080/"
    },
    "id": "_bVLuMt_kDWe",
    "outputId": "de38f94e-1b73-45e5-8d41-462330db6e07"
   },
   "outputs": [],
   "source": [
    "class Range:\n",
    "  def __init__(self, start=0, end=10000, step=1):\n",
    "    self.start = start\n",
    "    self.end = end\n",
    "    self.step = step\n",
    "    self.x = start\n",
    "  def __iter__(self):\n",
    "    return self\n",
    "  def __next__(self):\n",
    "    if self.x < self.end:\n",
    "      x = self.x\n",
    "      self.x += 1\n",
    "      return x\n",
    "    else:\n",
    "      raise StopIteration()\n",
    "\n",
    "for i in Range(0, 10):\n",
    "  print(i)\n"
   ]
  }
 ],
 "metadata": {
  "colab": {
   "provenance": []
  },
  "kernelspec": {
   "display_name": "Python 3 (ipykernel)",
   "language": "python",
   "name": "python3"
  },
  "language_info": {
   "codemirror_mode": {
    "name": "ipython",
    "version": 3
   },
   "file_extension": ".py",
   "mimetype": "text/x-python",
   "name": "python",
   "nbconvert_exporter": "python",
   "pygments_lexer": "ipython3",
   "version": "3.9.7"
  }
 },
 "nbformat": 4,
 "nbformat_minor": 4
}
