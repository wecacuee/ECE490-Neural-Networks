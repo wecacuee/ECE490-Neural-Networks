{
 "cells": [
  {
   "cell_type": "code",
   "execution_count": 1,
   "id": "ceee2b97-baca-4c1c-a610-cc55c867ac18",
   "metadata": {},
   "outputs": [],
   "source": [
    "# Adapted from: Chapter 7 and 8 of Deep Learning with Pytorch by Eli Stevens (2020)\n",
    "try:\n",
    "    import torch as t\n",
    "    import torch.nn as tnn\n",
    "except ImportError:\n",
    "    print(\"Colab users: pytorch comes preinstalled. Select Change Ru\")\n",
    "    print(\"Local users: Please install pytorch for your hardware using instructions from here: https://pytorch.org/get-started/locally/\")\n",
    "    print(\"ACG users: Please follow instructions here: https://vikasdhiman.info/ECE490-Neural-Networks/posts/0000-00-06-acg-slurm-jupyter/\")\n",
    "    \n",
    "    raise\n",
    "\n",
    "if t.cuda.is_available():\n",
    "    DEVICE=\"cuda\"\n",
    "elif t.mps.is_available():\n",
    "    DEVICE=\"mps\"\n",
    "else:\n",
    "    DEVICE=\"cpu\"\n",
    "    \n",
    "DTYPE = t.get_default_dtype()"
   ]
  },
  {
   "cell_type": "code",
   "execution_count": 2,
   "id": "6ace3403-f93b-4ab8-a715-514d9d552163",
   "metadata": {},
   "outputs": [
    {
     "name": "stdout",
     "output_type": "stream",
     "text": [
      "Files already downloaded and verified\n",
      "Files already downloaded and verified\n"
     ]
    }
   ],
   "source": [
    "## Doing it the Pytorch way without using our custom feature extraction\n",
    "\n",
    "import torch\n",
    "import torch.nn\n",
    "import torch.optim\n",
    "import torchvision\n",
    "from torchvision.transforms import ToTensor, Compose, Normalize\n",
    "from torch.utils.data import DataLoader\n",
    "\n",
    "torch.manual_seed(17)\n",
    "DATASET_MEAN = [0.4914, 0.4822, 0.4465]\n",
    "DATASET_STD = [0.2470, 0.2435, 0.2616]\n",
    "# Getting the dataset, the Pytorch way\n",
    "all_training_data = torchvision.datasets.CIFAR10(\n",
    "    root=\"data\",\n",
    "    train=True,\n",
    "    download=True,\n",
    "    transform=Compose([ToTensor(),\n",
    "                       Normalize(DATASET_MEAN, # dataset mean\n",
    "                                 DATASET_STD)]) # dataset std\n",
    ")\n",
    "\n",
    "test_data = torchvision.datasets.CIFAR10(\n",
    "    root=\"data\",\n",
    "    train=False,\n",
    "    download=True,\n",
    "    transform=Compose([ToTensor(),\n",
    "                       Normalize(DATASET_MEAN, # dataset mean\n",
    "                                 DATASET_STD)]) # dataset std\n",
    ")"
   ]
  },
  {
   "cell_type": "code",
   "execution_count": 3,
   "id": "28e3a7bb-e450-4206-b7ac-b6db1d81b234",
   "metadata": {},
   "outputs": [],
   "source": [
    "training_data, validation_data = torch.utils.data.random_split(all_training_data, [0.9, 0.1])"
   ]
  },
  {
   "cell_type": "markdown",
   "id": "6bb4c798-4ef9-4ee8-be45-0b76ef26a259",
   "metadata": {},
   "source": [
    "![](imgs/cifar10.png)"
   ]
  },
  {
   "cell_type": "code",
   "execution_count": 4,
   "id": "c615ce36-d305-41c9-b093-5ce9d5953b42",
   "metadata": {},
   "outputs": [
    {
     "data": {
      "text/plain": [
       "(torch.Size([3, 32, 32]), 1)"
      ]
     },
     "execution_count": 4,
     "metadata": {},
     "output_type": "execute_result"
    }
   ],
   "source": [
    "img, label = all_training_data[99]\n",
    "img.shape, label\n"
   ]
  },
  {
   "cell_type": "code",
   "execution_count": 5,
   "id": "f36c54f6-5d1b-4e43-b042-4caadf4cb373",
   "metadata": {},
   "outputs": [
    {
     "name": "stderr",
     "output_type": "stream",
     "text": [
      "Clipping input data to the valid range for imshow with RGB data ([0..1] for floats or [0..255] for integers).\n"
     ]
    },
    {
     "data": {
      "text/plain": [
       "<matplotlib.image.AxesImage at 0x7efdecbcb5b0>"
      ]
     },
     "execution_count": 5,
     "metadata": {},
     "output_type": "execute_result"
    },
    {
     "data": {
      "image/png": "[encoded data removed]",
      "text/plain": [
       "<Figure size 640x480 with 1 Axes>"
      ]
     },
     "metadata": {},
     "output_type": "display_data"
    }
   ],
   "source": [
    "import matplotlib.pyplot as plt\n",
    "plt.imshow(img.permute(1, 2, 0))"
   ]
  },
  {
   "cell_type": "code",
   "execution_count": 6,
   "id": "375e5d60-2dce-4584-beb7-b81d360dfd37",
   "metadata": {},
   "outputs": [
    {
     "data": {
      "text/plain": [
       "<matplotlib.image.AxesImage at 0x7efdecb04940>"
      ]
     },
     "execution_count": 6,
     "metadata": {},
     "output_type": "execute_result"
    },
    {
     "data": {
      "image/png": "[encoded data removed]",
      "text/plain": [
       "<Figure size 640x480 with 1 Axes>"
      ]
     },
     "metadata": {},
     "output_type": "display_data"
    }
   ],
   "source": [
    "plt.imshow((img.permute(1, 2, 0) *  torch.Tensor(DATASET_STD)\n",
    "            +  torch.Tensor(DATASET_MEAN)))"
   ]
  },
  {
   "cell_type": "code",
   "execution_count": 7,
   "id": "7515b5e5-1bb2-469c-93e4-ce74d0a858d3",
   "metadata": {},
   "outputs": [
    {
     "data": {
      "text/plain": [
       "(tensor([-1.2762e-06, -1.7074e-04,  1.1819e-04]),\n",
       " tensor([1.0001, 0.9999, 1.0000]))"
      ]
     },
     "execution_count": 7,
     "metadata": {},
     "output_type": "execute_result"
    }
   ],
   "source": [
    "imgs = torch.stack([img_t for img_t, _ in all_training_data], dim=3)\n",
    "imgs.reshape(3, -1).mean(dim=-1), imgs.reshape(3, -1).std(dim=-1)"
   ]
  },
  {
   "cell_type": "code",
   "execution_count": 8,
   "id": "92268110-8bc4-4dc6-9eb8-d5624b36a2eb",
   "metadata": {},
   "outputs": [
    {
     "data": {
      "text/plain": [
       "['airplane',\n",
       " 'automobile',\n",
       " 'bird',\n",
       " 'cat',\n",
       " 'deer',\n",
       " 'dog',\n",
       " 'frog',\n",
       " 'horse',\n",
       " 'ship',\n",
       " 'truck']"
      ]
     },
     "execution_count": 8,
     "metadata": {},
     "output_type": "execute_result"
    }
   ],
   "source": [
    "import pickle\n",
    "cifar_meta = pickle.load(open(\"data/cifar-10-batches-py/batches.meta\", \"rb\"), encoding='bytes')\n",
    "class_names = [c.decode('utf-8') for c in cifar_meta[b'label_names']]\n",
    "class_names"
   ]
  },
  {
   "cell_type": "code",
   "execution_count": 9,
   "id": "51792a06-6cdb-4a74-86b7-10e46d3218ee",
   "metadata": {},
   "outputs": [
    {
     "data": {
      "text/plain": [
       "torch.Size([64, 3, 32, 32])"
      ]
     },
     "execution_count": 9,
     "metadata": {},
     "output_type": "execute_result"
    }
   ],
   "source": [
    "# Hyper parameters\n",
    "learning_rate = 1e-3 # controls how fast the gradient descent goes\n",
    "batch_size = 64\n",
    "epochs = 5\n",
    "momentum = 0.9\n",
    "\n",
    "training_dataloader = DataLoader(training_data, shuffle=True, batch_size=batch_size)\n",
    "validation_dataloader = DataLoader(validation_data,  batch_size=batch_size)\n",
    "test_dataloader = DataLoader(test_data,  batch_size=batch_size)\n",
    "X, y = next(iter(training_dataloader))\n",
    "X.shape"
   ]
  },
  {
   "cell_type": "code",
   "execution_count": 10,
   "id": "a181ba0b-81b3-425f-bd12-17aad241e8d7",
   "metadata": {},
   "outputs": [
    {
     "name": "stdout",
     "output_type": "stream",
     "text": [
      "Requirement already satisfied: tensorboard in /home/vdhiman/.local/miniconda3/envs/ece490/lib/python3.10/site-packages (2.12.0)\n",
      "Requirement already satisfied: google-auth-oauthlib<0.5,>=0.4.1 in /home/vdhiman/.local/miniconda3/envs/ece490/lib/python3.10/site-packages (from tensorboard) (0.4.6)\n",
      "Requirement already satisfied: grpcio>=1.48.2 in /home/vdhiman/.local/miniconda3/envs/ece490/lib/python3.10/site-packages (from tensorboard) (1.53.0)\n",
      "Requirement already satisfied: tensorboard-data-server<0.8.0,>=0.7.0 in /home/vdhiman/.local/miniconda3/envs/ece490/lib/python3.10/site-packages (from tensorboard) (0.7.0)\n",
      "Requirement already satisfied: requests<3,>=2.21.0 in /home/vdhiman/.local/miniconda3/envs/ece490/lib/python3.10/site-packages (from tensorboard) (2.28.1)\n",
      "Requirement already satisfied: markdown>=2.6.8 in /home/vdhiman/.local/miniconda3/envs/ece490/lib/python3.10/site-packages (from tensorboard) (3.4.3)\n",
      "Requirement already satisfied: tensorboard-plugin-wit>=1.6.0 in /home/vdhiman/.local/miniconda3/envs/ece490/lib/python3.10/site-packages (from tensorboard) (1.8.1)\n",
      "Requirement already satisfied: google-auth<3,>=1.6.3 in /home/vdhiman/.local/miniconda3/envs/ece490/lib/python3.10/site-packages (from tensorboard) (2.17.0)\n",
      "Requirement already satisfied: wheel>=0.26 in /home/vdhiman/.local/miniconda3/envs/ece490/lib/python3.10/site-packages (from tensorboard) (0.37.1)\n",
      "Requirement already satisfied: setuptools>=41.0.0 in /home/vdhiman/.local/miniconda3/envs/ece490/lib/python3.10/site-packages (from tensorboard) (65.6.3)\n",
      "Requirement already satisfied: werkzeug>=1.0.1 in /home/vdhiman/.local/miniconda3/envs/ece490/lib/python3.10/site-packages (from tensorboard) (2.2.3)\n",
      "Requirement already satisfied: numpy>=1.12.0 in /home/vdhiman/.local/miniconda3/envs/ece490/lib/python3.10/site-packages (from tensorboard) (1.23.5)\n",
      "Requirement already satisfied: protobuf>=3.19.6 in /home/vdhiman/.local/miniconda3/envs/ece490/lib/python3.10/site-packages (from tensorboard) (4.22.1)\n",
      "Requirement already satisfied: absl-py>=0.4 in /home/vdhiman/.local/miniconda3/envs/ece490/lib/python3.10/site-packages (from tensorboard) (1.4.0)\n",
      "Requirement already satisfied: rsa<5,>=3.1.4 in /home/vdhiman/.local/miniconda3/envs/ece490/lib/python3.10/site-packages (from google-auth<3,>=1.6.3->tensorboard) (4.9)\n",
      "Requirement already satisfied: cachetools<6.0,>=2.0.0 in /home/vdhiman/.local/miniconda3/envs/ece490/lib/python3.10/site-packages (from google-auth<3,>=1.6.3->tensorboard) (5.3.0)\n",
      "Requirement already satisfied: pyasn1-modules>=0.2.1 in /home/vdhiman/.local/miniconda3/envs/ece490/lib/python3.10/site-packages (from google-auth<3,>=1.6.3->tensorboard) (0.2.8)\n",
      "Requirement already satisfied: six>=1.9.0 in /home/vdhiman/.local/miniconda3/envs/ece490/lib/python3.10/site-packages (from google-auth<3,>=1.6.3->tensorboard) (1.16.0)\n",
      "Requirement already satisfied: requests-oauthlib>=0.7.0 in /home/vdhiman/.local/miniconda3/envs/ece490/lib/python3.10/site-packages (from google-auth-oauthlib<0.5,>=0.4.1->tensorboard) (1.3.1)\n",
      "Requirement already satisfied: certifi>=2017.4.17 in /home/vdhiman/.local/miniconda3/envs/ece490/lib/python3.10/site-packages (from requests<3,>=2.21.0->tensorboard) (2022.12.7)\n",
      "Requirement already satisfied: urllib3<1.27,>=1.21.1 in /home/vdhiman/.local/miniconda3/envs/ece490/lib/python3.10/site-packages (from requests<3,>=2.21.0->tensorboard) (1.26.14)\n",
      "Requirement already satisfied: charset-normalizer<3,>=2 in /home/vdhiman/.local/miniconda3/envs/ece490/lib/python3.10/site-packages (from requests<3,>=2.21.0->tensorboard) (2.0.4)\n",
      "Requirement already satisfied: idna<4,>=2.5 in /home/vdhiman/.local/miniconda3/envs/ece490/lib/python3.10/site-packages (from requests<3,>=2.21.0->tensorboard) (3.4)\n",
      "Requirement already satisfied: MarkupSafe>=2.1.1 in /home/vdhiman/.local/miniconda3/envs/ece490/lib/python3.10/site-packages (from werkzeug>=1.0.1->tensorboard) (2.1.1)\n",
      "Requirement already satisfied: pyasn1<0.5.0,>=0.4.6 in /home/vdhiman/.local/miniconda3/envs/ece490/lib/python3.10/site-packages (from pyasn1-modules>=0.2.1->google-auth<3,>=1.6.3->tensorboard) (0.4.8)\n",
      "Requirement already satisfied: oauthlib>=3.0.0 in /home/vdhiman/.local/miniconda3/envs/ece490/lib/python3.10/site-packages (from requests-oauthlib>=0.7.0->google-auth-oauthlib<0.5,>=0.4.1->tensorboard) (3.2.2)\n"
     ]
    }
   ],
   "source": [
    "!pip install tensorboard"
   ]
  },
  {
   "cell_type": "code",
   "execution_count": 17,
   "id": "c95c0f77-42a4-4204-be86-ba74d651edcd",
   "metadata": {
    "tags": []
   },
   "outputs": [
    {
     "data": {
      "text/plain": [
       "Reusing TensorBoard on port 6006 (pid 543069), started 0:05:49 ago. (Use '!kill 543069' to kill it.)"
      ]
     },
     "metadata": {},
     "output_type": "display_data"
    },
    {
     "data": {
      "text/html": [
       "\n",
       "      <iframe id=\"tensorboard-frame-5eaacc7d2b69f7c8\" width=\"100%\" height=\"800\" frameborder=\"0\">\n",
       "      </iframe>\n",
       "      <script>\n",
       "        (function() {\n",
       "          const frame = document.getElementById(\"tensorboard-frame-5eaacc7d2b69f7c8\");\n",
       "          const url = new URL(\"/\", window.location);\n",
       "          const port = 6006;\n",
       "          if (port) {\n",
       "            url.port = port;\n",
       "          }\n",
       "          frame.src = url;\n",
       "        })();\n",
       "      </script>\n",
       "    "
      ],
      "text/plain": [
       "<IPython.core.display.HTML object>"
      ]
     },
     "metadata": {},
     "output_type": "display_data"
    }
   ],
   "source": [
    "%tensorboard --logdir=runs"
   ]
  },
  {
   "cell_type": "code",
   "execution_count": 22,
   "id": "a619d6cf-16c9-48c4-9184-ee259f5c4ae3",
   "metadata": {},
   "outputs": [
    {
     "name": "stdout",
     "output_type": "stream",
     "text": [
      "Validation Error: 4864/45000]\n",
      " Accuracy: 48.4%, Avg loss: 1.453683 \n",
      "\n",
      "Validation Error: 4864/45000]\n",
      " Accuracy: 49.2%, Avg loss: 1.440753 \n",
      "\n",
      "Test Error: \n",
      " Accuracy: 50.3%, Avg loss: 1.427571 \n",
      "\n"
     ]
    }
   ],
   "source": [
    "from torch.utils.tensorboard import SummaryWriter\n",
    "import os\n",
    "writer = SummaryWriter()\n",
    "\n",
    "loss = torch.nn.CrossEntropyLoss()\n",
    "# TODO:\n",
    "# Define model = ?\n",
    "\n",
    "model = tnn.Sequential(\n",
    "    torch.nn.Flatten(),\n",
    "    tnn.Linear(3*32*32, 100),\n",
    "    tnn.ReLU(),\n",
    "    tnn.Linear(100, 10))\n",
    "\n",
    "\n",
    "# Define optimizer\n",
    "optimizer = torch.optim.SGD(model.parameters(), lr=learning_rate, momentum=momentum)\n",
    "\n",
    "def loss_and_accuracy(model, loss, validation_dataloader, device=DEVICE):\n",
    "        # Validation loop\n",
    "        validation_size = len(validation_dataloader.dataset)\n",
    "        num_batches = len(validation_dataloader)\n",
    "        test_loss, correct = 0, 0\n",
    "        \n",
    "        with torch.no_grad():\n",
    "            model.eval() # Put model in eval mode, affects layers like dropout and batchnorm\n",
    "            for X, y in validation_dataloader:\n",
    "                X = X.to(device)\n",
    "                y = y.to(device)\n",
    "                pred = model(X)\n",
    "                test_loss += loss(pred, y)\n",
    "                correct += (pred.argmax(dim=-1) == y).type(DTYPE).sum()\n",
    "\n",
    "        test_loss /= num_batches\n",
    "        correct /= validation_size\n",
    "        return test_loss, correct\n",
    "    \n",
    "def train(model, loss, training_dataloader, validation_dataloader, device=DEVICE):\n",
    "    model.to(device)\n",
    "    t0 = 0\n",
    "    if os.path.exists(\"runs/model_ckpt.pt\"):\n",
    "        checkpoint = torch.load(\"runs/model_ckpt.pt\")\n",
    "        model.load_state_dict(checkpoint['model_state_dict'])\n",
    "        optimizer.load_state_dict(checkpoint['optimizer_state_dict'])\n",
    "        t0 = checkpoint['epoch']\n",
    "    \n",
    "    for t in range(t0, epochs):\n",
    "        # Train loop\n",
    "        training_size = len(training_dataloader.dataset)\n",
    "        nbatches = len(training_dataloader)\n",
    "        model.train() # Put model in train mode, affects layers like dropout and batchnorm\n",
    "        for batch, (X, y) in enumerate(training_dataloader):\n",
    "            X = X.to(device)\n",
    "            y = y.to(device)\n",
    "            # Compute prediction and loss\n",
    "            pred = model(X)\n",
    "            loss_t = loss(pred, y)\n",
    "\n",
    "            # Backpropagation\n",
    "            optimizer.zero_grad()\n",
    "            loss_t.backward()\n",
    "            optimizer.step()\n",
    "\n",
    "            if batch % 100 == 0:\n",
    "                writer.add_scalar(\"Train/loss_batch\", loss_t,  t*nbatches + batch)\n",
    "                loss_t, current = loss_t.item(), (batch + 1) * len(X)\n",
    "                print(f\"loss: {loss_t:>7f}  [{current:>5d}/{training_size:>5d}]\", end=\"\\r\")\n",
    "                \n",
    "        writer.add_scalar(\"Train/loss\", loss_t, t)\n",
    "        valid_loss, correct = loss_and_accuracy(model, loss, validation_dataloader, device=device)\n",
    "        writer.add_scalar(\"Valid/loss\", valid_loss, t)\n",
    "        writer.add_scalar(\"Valid/accuracy\", correct, t)\n",
    "        print(f\"Validation Error: \\n Accuracy: {(100*correct):>0.1f}%, Avg loss: {valid_loss:>8f} \\n\")\n",
    "        if t % 3 == 0:\n",
    "            torch.save({\n",
    "                'epoch': t,\n",
    "                'model_state_dict': model.state_dict(),\n",
    "                'optimizer_state_dict': optimizer.state_dict()\n",
    "                }, \"runs/model_ckpt.pt\")\n",
    "    return model\n",
    "        \n",
    "trained_model = train(model, loss, training_dataloader, validation_dataloader)\n",
    "\n",
    "test_loss, correct = loss_and_accuracy(model, loss, test_dataloader)\n",
    "print(f\"Test Error: \\n Accuracy: {(100*correct):>0.1f}%, Avg loss: {test_loss:>8f} \\n\")"
   ]
  },
  {
   "cell_type": "markdown",
   "id": "20506495-1b98-418f-b396-9f1b684418ba",
   "metadata": {
    "tags": []
   },
   "source": [
    "### Limits of fully connected layers\n",
    "![](imgs/limits-of-fully-connected.png)"
   ]
  },
  {
   "cell_type": "markdown",
   "id": "bd8e6fb3-7fc3-45c4-b594-e2e235cbbbf9",
   "metadata": {},
   "source": [
    "### Convolutions bring translation invariance\n",
    "![](imgs/conv-locality-translation-invariance.png)"
   ]
  },
  {
   "cell_type": "code",
   "execution_count": 32,
   "id": "06931ed6-ac68-4347-87fe-2ec80d73bba7",
   "metadata": {},
   "outputs": [
    {
     "data": {
      "text/plain": [
       "Conv2d(3, 1, kernel_size=(3, 3), stride=(1, 1))"
      ]
     },
     "execution_count": 32,
     "metadata": {},
     "output_type": "execute_result"
    }
   ],
   "source": [
    "conv = torch.nn.Conv2d(3, 1, kernel_size=3)\n",
    "conv"
   ]
  },
  {
   "cell_type": "code",
   "execution_count": 33,
   "id": "660caa7d-5b46-4b3c-90ae-f3f9b8c3bdf1",
   "metadata": {},
   "outputs": [
    {
     "data": {
      "text/plain": [
       "<matplotlib.image.AxesImage at 0x7efd51214ee0>"
      ]
     },
     "execution_count": 33,
     "metadata": {},
     "output_type": "execute_result"
    },
    {
     "data": {
      "image/png": "[encoded data removed]",
      "text/plain": [
       "<Figure size 640x480 with 1 Axes>"
      ]
     },
     "metadata": {},
     "output_type": "display_data"
    }
   ],
   "source": [
    "img, label = training_data[99]\n",
    "plt.imshow(img.permute(1, 2, 0) * t.Tensor(DATASET_STD) + t.Tensor(DATASET_MEAN))"
   ]
  },
  {
   "cell_type": "markdown",
   "id": "92748d82-a014-4046-97cb-7b7f5c739bb7",
   "metadata": {},
   "source": [
    "### Learning with Convolutions\n",
    "![](imgs/learning-with-conv.png)"
   ]
  },
  {
   "cell_type": "markdown",
   "id": "28a00b4c-6e8d-40e4-afb8-e0a6343567ab",
   "metadata": {},
   "source": [
    "### Maxpooling\n",
    "![](imgs/maxpooling.png)"
   ]
  },
  {
   "cell_type": "code",
   "execution_count": null,
   "id": "ff932bb0-5bc7-4f75-bd98-83e9ebbaf69d",
   "metadata": {},
   "outputs": [],
   "source": []
  }
 ],
 "metadata": {
  "kernelspec": {
   "display_name": "Python 3 (ipykernel)",
   "language": "python",
   "name": "python3"
  },
  "language_info": {
   "codemirror_mode": {
    "name": "ipython",
    "version": 3
   },
   "file_extension": ".py",
   "mimetype": "text/x-python",
   "name": "python",
   "nbconvert_exporter": "python",
   "pygments_lexer": "ipython3",
   "version": "3.10.9"
  }
 },
 "nbformat": 4,
 "nbformat_minor": 5
}
