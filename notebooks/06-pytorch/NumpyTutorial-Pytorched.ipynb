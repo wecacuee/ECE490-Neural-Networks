{
 "cells": [
  {
   "cell_type": "markdown",
   "id": "ace19c1f",
   "metadata": {},
   "source": [
    "Before you turn this problem in, make sure everything runs as expected. First, **restart the kernel** (in the menubar, select Kernel$\\rightarrow$Restart) and then **run all cells** (in the menubar, select Cell$\\rightarrow$Run All).\n",
    "\n",
    "Make sure you fill in any place that says `YOUR CODE HERE` or \"YOUR ANSWER HERE\", as well as your name and collaborators below:"
   ]
  },
  {
   "cell_type": "code",
   "execution_count": null,
   "id": "a82baca4",
   "metadata": {},
   "outputs": [],
   "source": [
    "NAME = \"\"\n",
    "COLLABORATORS = \"\""
   ]
  },
  {
   "cell_type": "markdown",
   "id": "3a3f2874",
   "metadata": {},
   "source": [
    "---"
   ]
  },
  {
   "cell_type": "markdown",
   "id": "e1b2014d-703c-4a49-b033-216a12df3247",
   "metadata": {},
   "source": [
    "# Numpy Tutorial\n",
    "\n",
    "Ref: https://numpy.org/doc/stable/user/absolute_beginners.html"
   ]
  },
  {
   "cell_type": "code",
   "execution_count": null,
   "id": "fbffda48-4e3f-4b99-8c4c-5b09238f5936",
   "metadata": {},
   "outputs": [],
   "source": [
    "import torch as t\n",
    "a = t.Tensor([1, 2, 3])\n",
    "a"
   ]
  },
  {
   "cell_type": "code",
   "execution_count": null,
   "id": "d892a98c",
   "metadata": {},
   "outputs": [],
   "source": [
    "import torch as t\n",
    "a = t.Tensor([1, 2, 3])\n",
    "a"
   ]
  },
  {
   "attachments": {
    "85eda45b-9b32-409d-97fa-b1e00b193a7f.png": {
     "image/png": "[encoded data removed]"
    }
   },
   "cell_type": "markdown",
   "id": "f2c593f5-6dcd-468e-9066-9b8a8cbce60b",
   "metadata": {},
   "source": [
    "![image.png](attachment:85eda45b-9b32-409d-97fa-b1e00b193a7f.png)"
   ]
  },
  {
   "cell_type": "code",
   "execution_count": null,
   "id": "a20a55f0-3f05-40ea-a30b-7b258c3003b6",
   "metadata": {},
   "outputs": [],
   "source": [
    "a = t.Tensor([[1, 2, 3, 4], [5, 6, 7, 8], [9, 10, 11, 12]])\n",
    "a"
   ]
  },
  {
   "cell_type": "code",
   "execution_count": null,
   "id": "2fa3c08d",
   "metadata": {},
   "outputs": [],
   "source": [
    "a = t.Tensor([[1, 2, 3, 4], [5, 6, 7, 8], [9, 10, 11, 12]])\n",
    "a"
   ]
  },
  {
   "cell_type": "markdown",
   "id": "9b7d0132-8405-4409-aca3-9efdec02b6f7",
   "metadata": {},
   "source": [
    "You might occasionally hear an array referred to as a “ndarray,” which is shorthand for “N-dimensional array.” An N-dimensional array is simply an array with any number of dimensions. You might also hear 1-D, or one-dimensional array, 2-D, or two-dimensional array, and so on. The NumPy ndarray class is used to represent both matrices and vectors. A vector is an array with a single dimension (there’s no difference between row and column vectors), while a matrix refers to an array with two dimensions. For 3-D or higher dimensional arrays, the term tensor is also commonly used."
   ]
  },
  {
   "cell_type": "code",
   "execution_count": null,
   "id": "c5fcf70f-11eb-4bba-9fd8-de7859063d16",
   "metadata": {},
   "outputs": [],
   "source": [
    "a = t.Tensor([[1, 2, 3, 4], [5, 6, 7, 8], [9, 10, 11, 12]])\n",
    "a.ndim # number of dimensions (axes)"
   ]
  },
  {
   "cell_type": "code",
   "execution_count": null,
   "id": "c00aad9d",
   "metadata": {},
   "outputs": [],
   "source": [
    "a.dtype"
   ]
  },
  {
   "cell_type": "code",
   "execution_count": null,
   "id": "89a8fea3",
   "metadata": {},
   "outputs": [],
   "source": [
    "a = t.Tensor([[1, 2, 3, 4], [5, 6, 7, 8], [9, 10, 11, 12]])\n",
    "a.ndim # number of dimensions (axes)"
   ]
  },
  {
   "cell_type": "code",
   "execution_count": null,
   "id": "acd5324c-75ea-4c90-a1da-c3df4fc0b1f3",
   "metadata": {},
   "outputs": [],
   "source": [
    "a.shape # the shape of the array"
   ]
  },
  {
   "cell_type": "code",
   "execution_count": null,
   "id": "247da7ab-5775-4afc-ba51-7e52d5e55a49",
   "metadata": {},
   "outputs": [],
   "source": [
    "a.size() # the total size in number of elements"
   ]
  },
  {
   "cell_type": "code",
   "execution_count": null,
   "id": "10dd20c2-0405-45d1-ad92-e153adf63895",
   "metadata": {},
   "outputs": [],
   "source": [
    "len(a) # the size of first axes"
   ]
  },
  {
   "cell_type": "code",
   "execution_count": null,
   "id": "92663ba4-68ef-4207-8a65-8aecb4b62167",
   "metadata": {},
   "outputs": [],
   "source": [
    "a.dtype # The datatype of array in C types"
   ]
  },
  {
   "cell_type": "markdown",
   "id": "52cd692b-8ec9-4933-90bb-5129419f1c3d",
   "metadata": {},
   "source": [
    "We can access the elements in the array using square brackets. When you’re accessing elements, remember that indexing in NumPy starts at 0. That means that if you want to access the first element in your array, you’ll be accessing element “0”."
   ]
  },
  {
   "cell_type": "code",
   "execution_count": null,
   "id": "8e60729c-689b-4dde-9352-f2786fea4029",
   "metadata": {},
   "outputs": [],
   "source": [
    "print(a[0])"
   ]
  },
  {
   "cell_type": "markdown",
   "id": "16076ff1-1b99-4474-ad01-4aa1e049d509",
   "metadata": {},
   "source": [
    "If you start with these arrays:"
   ]
  },
  {
   "cell_type": "code",
   "execution_count": null,
   "id": "6fd55d9f-ba25-4f14-84c7-fe1ebe21d761",
   "metadata": {},
   "outputs": [],
   "source": [
    "a = t.Tensor([1, 2, 3, 4])\n",
    "b = t.Tensor([5, 6, 7, 8])"
   ]
  },
  {
   "cell_type": "markdown",
   "id": "05bfe449-0f83-43df-8ba0-1737cefde923",
   "metadata": {},
   "source": [
    "You can concatenate them with t.cat()."
   ]
  },
  {
   "cell_type": "code",
   "execution_count": null,
   "id": "f6eb7b2e",
   "metadata": {},
   "outputs": [],
   "source": [
    "a = t.Tensor([1, 2, 3, 4])\n",
    "b = t.Tensor([5, 6, 7, 8])\n",
    "t.cat((a, b)) # Different from numpy concatenate -> cat"
   ]
  },
  {
   "cell_type": "markdown",
   "id": "d5ce1e1e-4dc4-4195-a481-9685512477cd",
   "metadata": {},
   "source": [
    "Or, if you start with these arrays:"
   ]
  },
  {
   "cell_type": "code",
   "execution_count": null,
   "id": "16c6a25a-c40b-4d62-92d3-664fa3af53da",
   "metadata": {},
   "outputs": [],
   "source": [
    "x = t.Tensor([[1, 2], [3, 4]])\n",
    "y = t.Tensor([[5, 6]])"
   ]
  },
  {
   "cell_type": "markdown",
   "id": "4be92122-7627-42c3-b311-0c8335ac8820",
   "metadata": {},
   "source": [
    "You can concatenate them with:"
   ]
  },
  {
   "cell_type": "code",
   "execution_count": null,
   "id": "adb18dea",
   "metadata": {},
   "outputs": [],
   "source": [
    "x = t.Tensor([[1, 2], [3, 4]])\n",
    "y = t.Tensor([[5, 6]])\n",
    "t.cat((x, y), dim=0) # Difference from numpy axis -> dim"
   ]
  },
  {
   "cell_type": "markdown",
   "id": "2cfeb608-4962-43cc-88f0-08e55cd937e9",
   "metadata": {},
   "source": [
    "#### Can you reshape an array?\n",
    "\n",
    "This section covers arr.reshape()\n",
    "\n",
    "Yes!\n",
    "\n",
    "Using arr.reshape() will give a new shape to an array without changing the data. Just remember that when you use the reshape method, the array you want to produce needs to have the same number of elements as the original array. If you start with an array with 12 elements, you’ll need to make sure that your new array also has a total of 12 elements.\n",
    "\n",
    "If you start with this array:"
   ]
  },
  {
   "cell_type": "code",
   "execution_count": null,
   "id": "1c61ee6f",
   "metadata": {},
   "outputs": [],
   "source": [
    "a = t.arange(6)\n",
    "a"
   ]
  },
  {
   "cell_type": "markdown",
   "id": "83626339-dd68-4d9a-98cc-97e8069593a8",
   "metadata": {},
   "source": [
    "You can use reshape() to reshape your array. For example, you can reshape this array to an array with three rows and two columns:"
   ]
  },
  {
   "cell_type": "code",
   "execution_count": null,
   "id": "7b60f470-2ae1-44e7-b9db-87550a7b5ba4",
   "metadata": {},
   "outputs": [],
   "source": [
    "b = a.reshape(3, 2)\n",
    "\n",
    "print(b)"
   ]
  },
  {
   "cell_type": "markdown",
   "id": "832fec0c-92c4-4656-8f7e-616a3256b06f",
   "metadata": {},
   "source": [
    "#### How to convert a 1D array into a 2D array (how to add a new axis to an array)\n",
    "\n",
    "This section covers None\n",
    "\n",
    "You can use None to increase the dimensions of your existing array.\n",
    "\n",
    "Using None will increase the dimensions of your array by one dimension when used once. This means that a 1D array will become a 2D array, a 2D array will become a 3D array, and so on.\n",
    "\n",
    "For example, if you start with this array:"
   ]
  },
  {
   "cell_type": "code",
   "execution_count": null,
   "id": "5e785198-f756-45d1-a59b-9f32f78169f4",
   "metadata": {},
   "outputs": [],
   "source": [
    "a = t.Tensor([1, 2, 3, 4, 5, 6])\n",
    "\n",
    "a.shape"
   ]
  },
  {
   "cell_type": "markdown",
   "id": "f1b1f8be-96e6-49d7-956f-1cbb7d4888ac",
   "metadata": {},
   "source": [
    "You can use `None` to add a new axis:"
   ]
  },
  {
   "cell_type": "code",
   "execution_count": null,
   "id": "fdd3a8ed-3c82-4a63-ad74-af64cdd69d1d",
   "metadata": {},
   "outputs": [],
   "source": [
    "a2 = a[None, :]\n",
    "\n",
    "a2.shape"
   ]
  },
  {
   "cell_type": "code",
   "execution_count": null,
   "id": "5354d106",
   "metadata": {},
   "outputs": [],
   "source": [
    "a = t.Tensor([1, 2, 3, 4, 5, 6])\n",
    "a2 = a[None, :]\n",
    "a2.shape"
   ]
  },
  {
   "cell_type": "markdown",
   "id": "ebb54dee-ab0b-4036-b06d-c6a2f386a308",
   "metadata": {},
   "source": [
    "You can explicitly convert a 1D array with either a row vector or a column vector using None. For example, you can convert a 1D array to a row vector by inserting an axis along the first dimension:"
   ]
  },
  {
   "cell_type": "code",
   "execution_count": null,
   "id": "873823d4-64d8-4d30-b85a-aa2e0b0469b6",
   "metadata": {},
   "outputs": [],
   "source": [
    "row_vector = a[None, :]\n",
    "\n",
    "row_vector.shape"
   ]
  },
  {
   "cell_type": "markdown",
   "id": "99a7adda-a418-460b-8999-8120dc22eda5",
   "metadata": {},
   "source": [
    "Or, for a column vector, you can insert an axis along the second dimension:"
   ]
  },
  {
   "cell_type": "code",
   "execution_count": null,
   "id": "f9153104-88b6-4fa8-887a-fa365b120953",
   "metadata": {},
   "outputs": [],
   "source": [
    "col_vector = a[:, None]\n",
    "\n",
    "col_vector.shape"
   ]
  },
  {
   "cell_type": "markdown",
   "id": "9329ad90-0036-4e55-afde-cca095cfaaba",
   "metadata": {},
   "source": [
    "You can do the inverse operation using `.squeeze()` method which removes the dimensions of size 1. `np.squeeze` takes the axis that need to be squeezed as an arugment. "
   ]
  },
  {
   "cell_type": "code",
   "execution_count": null,
   "id": "b90ba055-c776-406f-800c-bb1ac4a15766",
   "metadata": {},
   "outputs": [],
   "source": [
    "print(col_vector.shape)\n",
    "a_again = col_vector.squeeze(1)\n",
    "a_again.shape"
   ]
  },
  {
   "cell_type": "code",
   "execution_count": null,
   "id": "ef21c055-e59d-4909-962a-85281c525225",
   "metadata": {},
   "outputs": [],
   "source": [
    "print(row_vector.shape)\n",
    "row_vector.squeeze(0).shape"
   ]
  },
  {
   "cell_type": "markdown",
   "id": "1a5aec1c-a37c-4359-a92b-d3bb3a5f646d",
   "metadata": {},
   "source": [
    "You can also provide a tuple of axis as argument to squeeze. "
   ]
  },
  {
   "cell_type": "code",
   "execution_count": null,
   "id": "0ef35142-b1f6-4cde-8fe4-fb28d7d4b393",
   "metadata": {},
   "outputs": [],
   "source": [
    "col_vector_as_3D_tensor = a[None, :, None]\n",
    "print(\"col_vector_as_3D_tensor.shape=\", col_vector_as_3D_tensor.shape)\n",
    "col_vector_as_3D_tensor.squeeze((0, 2)).shape"
   ]
  },
  {
   "cell_type": "markdown",
   "id": "3dac98a0-7cec-49e6-a866-454dd3bced1c",
   "metadata": {},
   "source": [
    "If you want to squeeze all the axis, you can call squeeze without an argument, although explicit is better than implicit."
   ]
  },
  {
   "cell_type": "code",
   "execution_count": null,
   "id": "14bdb494-119c-4e35-a1c7-bad6a99fa10a",
   "metadata": {},
   "outputs": [],
   "source": [
    "col_vector_as_3D_tensor = a[None, :, None]\n",
    "print(\"col_vector_as_3D_tensor.shape=\", col_vector_as_3D_tensor.shape)\n",
    "col_vector_as_3D_tensor.squeeze().shape"
   ]
  },
  {
   "cell_type": "markdown",
   "id": "3b385938-daf2-44ab-9598-020fe8ccef4a",
   "metadata": {},
   "source": [
    "Find more information about newaxis [here](https://numpy.org/doc/stable/reference/arrays.indexing.html#arrays-indexing)"
   ]
  },
  {
   "cell_type": "markdown",
   "id": "1a6f7345-b988-4346-9993-2c10a534759b",
   "metadata": {},
   "source": [
    "#### Indexing and slicing\n",
    "\n",
    "You can index and slice NumPy arrays in the same ways you can slice Python lists."
   ]
  },
  {
   "cell_type": "code",
   "execution_count": null,
   "id": "26fb11e2-ef16-479d-a491-9f4180d5e49f",
   "metadata": {},
   "outputs": [],
   "source": [
    "data = t.Tensor([1, 2, 3])\n",
    "\n",
    "data[1]"
   ]
  },
  {
   "cell_type": "code",
   "execution_count": null,
   "id": "5a78c9cf-895e-455d-8815-810257ca816c",
   "metadata": {},
   "outputs": [],
   "source": [
    "data[0:2]"
   ]
  },
  {
   "cell_type": "code",
   "execution_count": null,
   "id": "d945f345-a3d0-4c1e-b7a1-625d93f4bee4",
   "metadata": {},
   "outputs": [],
   "source": [
    "data[1:]"
   ]
  },
  {
   "cell_type": "code",
   "execution_count": null,
   "id": "8f162cd3-ed25-4f9f-b59a-bfc37e6b20c3",
   "metadata": {},
   "outputs": [],
   "source": [
    "data[-2:]"
   ]
  },
  {
   "cell_type": "markdown",
   "id": "cd1b52f8-5c50-440d-9ade-6d4f673a22e3",
   "metadata": {},
   "source": [
    "You can visualize it this way:\n",
    "\n",
    "![](https://numpy.org/doc/stable/_images/np_indexing.png)\n",
    "\n",
    "You may want to take a section of your array or specific array elements to use in further analysis or additional operations. To do that, you'll need to subset, slice, and/or index your arrays.\n",
    "\n",
    "If you want to select values from your array that fulfill certain conditions, it's straightforward with NumPy.\n",
    "\n",
    "For example, if you start with this array:"
   ]
  },
  {
   "cell_type": "code",
   "execution_count": null,
   "id": "cac5faed-e8a6-40a1-8aa9-620a7bcb0e56",
   "metadata": {},
   "outputs": [],
   "source": [
    "a = t.Tensor([[1 , 2, 3, 4], [5, 6, 7, 8], [9, 10, 11, 12]])"
   ]
  },
  {
   "cell_type": "markdown",
   "id": "b558d084-7018-4a86-b19c-c29d6d9a042b",
   "metadata": {},
   "source": [
    "You can easily print all of the values in the array that are less than 5."
   ]
  },
  {
   "cell_type": "code",
   "execution_count": null,
   "id": "b4587383-d42d-4110-8d81-ddc4826712ba",
   "metadata": {},
   "outputs": [],
   "source": [
    "print(a[a < 5])"
   ]
  },
  {
   "cell_type": "markdown",
   "id": "8857f4a1-3552-4a22-94fc-c45c3d4d0d69",
   "metadata": {},
   "source": [
    "You can also select, for example, numbers that are equal to or greater than 5, and use that condition to index an array."
   ]
  },
  {
   "cell_type": "code",
   "execution_count": null,
   "id": "799e6b07-8b4e-497d-83ca-2702566d9ca6",
   "metadata": {},
   "outputs": [],
   "source": [
    "five_up = (a >= 5)\n",
    "\n",
    "print(a[five_up])"
   ]
  },
  {
   "cell_type": "markdown",
   "id": "effcaffd-fd0b-46dc-9727-0c8d0cacf7b9",
   "metadata": {},
   "source": [
    "You can select elements that are divisible by 2:"
   ]
  },
  {
   "cell_type": "code",
   "execution_count": null,
   "id": "3ed98a6b-e711-444a-a634-01c2b3927351",
   "metadata": {},
   "outputs": [],
   "source": [
    "divisible_by_2 = a[a%2==0]\n",
    "\n",
    "print(divisible_by_2)"
   ]
  },
  {
   "cell_type": "markdown",
   "id": "ece4b60a-ef1e-4428-b6c6-369970d9fae9",
   "metadata": {},
   "source": [
    "Or you can select elements that satisfy two conditions using the & and | operators:"
   ]
  },
  {
   "cell_type": "code",
   "execution_count": null,
   "id": "864e319a-99f4-4f12-81ca-ec89a35614a7",
   "metadata": {},
   "outputs": [],
   "source": [
    "c = a[(a > 2) & (a < 11)]\n",
    "print(c)"
   ]
  },
  {
   "cell_type": "markdown",
   "id": "db5ed865-5841-4da7-accc-e68f4dd313db",
   "metadata": {},
   "source": [
    "You can also make use of the logical operators & and | in order to return boolean values that specify whether or not the values in an array fulfill a certain condition. This can be useful with arrays that contain names or other categorical values."
   ]
  },
  {
   "cell_type": "code",
   "execution_count": null,
   "id": "6f569858-e193-432d-9689-b7b4920c5b41",
   "metadata": {},
   "outputs": [],
   "source": [
    "five_up = (a > 5) | (a == 5)\n",
    "\n",
    "print(five_up)"
   ]
  },
  {
   "cell_type": "markdown",
   "id": "10957bcb-6801-4901-b6fc-c3ff9bbcfcc9",
   "metadata": {},
   "source": [
    "You can also use np.nonzero() to select elements or indices from an array.\n",
    "\n",
    "Starting with this array:"
   ]
  },
  {
   "cell_type": "code",
   "execution_count": null,
   "id": "766067cc-e424-47a9-a776-4886fb8e1a78",
   "metadata": {},
   "outputs": [],
   "source": [
    "a = t.Tensor([[1, 2, 3, 4], [5, 6, 7, 8], [9, 10, 11, 12]])"
   ]
  },
  {
   "cell_type": "markdown",
   "id": "bce63528-103b-4445-ba94-0bb756d0bc20",
   "metadata": {},
   "source": [
    "You can use np.nonzero() to print the indices of elements that are, for example, less than 5:"
   ]
  },
  {
   "cell_type": "code",
   "execution_count": null,
   "id": "fe4f9f14-d1da-4b1f-898d-e73aed991eba",
   "metadata": {},
   "outputs": [],
   "source": [
    "b = t.nonzero(a < 5, as_tuple=True) # in numpy as_tuple is not neede\n",
    "\n",
    "print(b)"
   ]
  },
  {
   "cell_type": "markdown",
   "id": "86f7e003-5aae-4bfb-86f9-bfa6c0aed2fa",
   "metadata": {},
   "source": [
    "In this example, an array was returned: one for each dimension. The first array represents the row indices where these values are found, and the second array represents the column indices where the values are found.\n",
    "\n",
    "If you want to generate a list of coordinates where the elements exist, you can zip the arrays, iterate over the list of coordinates, and print them. For example:"
   ]
  },
  {
   "cell_type": "code",
   "execution_count": null,
   "id": "0e3efece-75d3-42a8-b1c8-0269f7029647",
   "metadata": {},
   "outputs": [],
   "source": [
    "list_of_coordinates= list(zip(b[0], b[1]))\n",
    "for coord in list_of_coordinates:\n",
    "\n",
    "    print(coord)\n"
   ]
  },
  {
   "cell_type": "markdown",
   "id": "1adaa824-25cb-4baa-a1af-6f2c029ba922",
   "metadata": {},
   "source": [
    "You can also use np.nonzero() to print the elements in an array that are less than 5 with:"
   ]
  },
  {
   "cell_type": "code",
   "execution_count": null,
   "id": "9be37dca-5087-4ca7-be02-517bf6a634a2",
   "metadata": {},
   "outputs": [],
   "source": [
    "print(a[b])"
   ]
  },
  {
   "cell_type": "markdown",
   "id": "78ba4f0a-211e-47fb-92c7-a09fe3dae84e",
   "metadata": {},
   "source": [
    "If the element you’re looking for doesn’t exist in the array, then the returned array of indices will be empty. For example:"
   ]
  },
  {
   "cell_type": "code",
   "execution_count": null,
   "id": "2c9fd217-ff56-4f44-8490-c78b9685f31c",
   "metadata": {},
   "outputs": [],
   "source": [
    "not_there = t.nonzero(a == 42, as_tuple=True)\n",
    "\n",
    "print(not_there)"
   ]
  },
  {
   "cell_type": "markdown",
   "id": "5929b907-be66-47b4-96f4-5ede2737a94b",
   "metadata": {},
   "source": [
    "##### Using `Ellipsis` or `...` "
   ]
  },
  {
   "cell_type": "code",
   "execution_count": null,
   "id": "9d8cf1db-437e-4c64-9228-da96e29f38f5",
   "metadata": {},
   "outputs": [],
   "source": [
    "x = t.Tensor([[[1],[2],[3]], [[4],[5],[6]]])\n",
    "\n",
    "x.shape"
   ]
  },
  {
   "cell_type": "code",
   "execution_count": null,
   "id": "e351cb21-cdb7-4c34-bce0-2fe239bc4920",
   "metadata": {},
   "outputs": [],
   "source": [
    "x[1:2]"
   ]
  },
  {
   "cell_type": "markdown",
   "id": "d3331434-f287-486c-affc-8aa2e1c9416e",
   "metadata": {},
   "source": [
    "`Ellipsis` or `...` expands to the number of : objects needed for the selection tuple to index all dimensions. In most cases, this means that the length of the expanded selection tuple is x.ndim.  There may only be a single ellipsis present."
   ]
  },
  {
   "cell_type": "code",
   "execution_count": null,
   "id": "ae24f9d4-9e54-4a27-bd79-88621c105880",
   "metadata": {},
   "outputs": [],
   "source": [
    "x[..., 0]"
   ]
  },
  {
   "cell_type": "markdown",
   "id": "2840a0c4-4234-4ffa-ae45-e81e3a6cfbe7",
   "metadata": {},
   "source": [
    "This is equivalent to:"
   ]
  },
  {
   "cell_type": "code",
   "execution_count": null,
   "id": "d8cd6676-d588-4149-bb5c-252b250d51bd",
   "metadata": {},
   "outputs": [],
   "source": [
    "x[:, :, 0]"
   ]
  },
  {
   "cell_type": "markdown",
   "id": "3789c136-18da-4f36-a3af-d44abfd1679a",
   "metadata": {},
   "source": [
    "Each newaxis object in the selection tuple serves to expand the dimensions of the resulting selection by one unit-length dimension. The added dimension is the position of the newaxis object in the selection tuple. newaxis is an alias for None, and None can be used in place of this with the same result. From the above example:"
   ]
  },
  {
   "cell_type": "code",
   "execution_count": null,
   "id": "63af1163-797d-4d75-a698-252324c743b6",
   "metadata": {},
   "outputs": [],
   "source": [
    "x[:, None, :, :].shape"
   ]
  },
  {
   "cell_type": "code",
   "execution_count": null,
   "id": "5870a178-fb0a-4be1-86ec-ca7505e2a8c4",
   "metadata": {},
   "outputs": [],
   "source": [
    "x[:, None, :, :].shape"
   ]
  },
  {
   "cell_type": "markdown",
   "id": "08cb71e3-2458-464a-8332-d4194d524c22",
   "metadata": {},
   "source": [
    "This can be handy to combine two arrays in a way that otherwise would require explicit reshaping operations. For example:"
   ]
  },
  {
   "cell_type": "code",
   "execution_count": null,
   "id": "ec800098-877a-4311-ac37-90b782bdb7e7",
   "metadata": {},
   "outputs": [],
   "source": [
    "x = t.arange(5)\n",
    "\n",
    "x[:, None] + x[None, :]"
   ]
  },
  {
   "cell_type": "markdown",
   "id": "1629a3fd-c75a-41d5-834e-636c989f6b9f",
   "metadata": {},
   "source": [
    "Learn more about [indexing and slicing here](https://numpy.org/doc/stable/user/quickstart.html#quickstart-indexing-slicing-and-iterating) and [here]().\n",
    "\n",
    "Read more about using the nonzero function at: [nonzero](https://numpy.org/doc/stable/reference/generated/numpy.nonzero.html#numpy.nonzero)."
   ]
  },
  {
   "cell_type": "markdown",
   "id": "4e8089f2-e53a-4319-8a21-806594a9706f",
   "metadata": {},
   "source": [
    "#### How to create an array from existing data"
   ]
  },
  {
   "cell_type": "markdown",
   "id": "cf1176f1-69d3-4264-8b2e-be802f30dc1e",
   "metadata": {},
   "source": [
    "This section covers slicing and indexing, np.vstack(), np.hstack(), np.hsplit(), .view(), copy()\n",
    "\n",
    "You can easily create a new array from a section of an existing array.\n",
    "\n",
    "Let’s say you have this array:"
   ]
  },
  {
   "cell_type": "code",
   "execution_count": null,
   "id": "4ea32338-aac6-45bf-871c-1a6ed3472da9",
   "metadata": {},
   "outputs": [],
   "source": [
    "a = t.Tensor([1,  2,  3,  4,  5,  6,  7,  8,  9, 10])"
   ]
  },
  {
   "cell_type": "markdown",
   "id": "41902775-be05-42e2-a05d-57e74912d3ba",
   "metadata": {},
   "source": [
    "You can create a new array from a section of your array any time by specifying where you want to slice your array."
   ]
  },
  {
   "cell_type": "code",
   "execution_count": null,
   "id": "e1b68767-242e-4fab-8436-022f4751f341",
   "metadata": {},
   "outputs": [],
   "source": [
    "arr1 = a[3:8]\n",
    "\n",
    "arr1"
   ]
  },
  {
   "cell_type": "markdown",
   "id": "4ef1e1cb-035a-47a5-99ec-1301228ee940",
   "metadata": {},
   "source": [
    "Here, you grabbed a section of your array from index position 3 through index position 8.\n",
    "\n",
    "You can also stack two existing arrays, both vertically and horizontally. Let’s say you have two arrays, a1 and a2:"
   ]
  },
  {
   "cell_type": "code",
   "execution_count": null,
   "id": "e08c6fc8-0605-461c-abaf-3dc40d98eb94",
   "metadata": {},
   "outputs": [],
   "source": [
    "a1 = t.Tensor([[1, 1],\n",
    "\n",
    "               [2, 2]])\n",
    "\n",
    "a2 = t.Tensor([[3, 3],\n",
    "\n",
    "               [4, 4]])"
   ]
  },
  {
   "cell_type": "markdown",
   "id": "13284de9-c0da-4123-8741-b7a46e24331c",
   "metadata": {},
   "source": [
    "You can stack them vertically with vstack:"
   ]
  },
  {
   "cell_type": "code",
   "execution_count": null,
   "id": "f92c17df-a67d-4142-b525-1cbd708a9623",
   "metadata": {},
   "outputs": [],
   "source": [
    "t.vstack((a1, a2))"
   ]
  },
  {
   "cell_type": "code",
   "execution_count": null,
   "id": "d4fab2f4",
   "metadata": {},
   "outputs": [],
   "source": [
    "a1 = t.Tensor([[1, 1],\n",
    "\n",
    "               [2, 2]])\n",
    "\n",
    "a2 = t.Tensor([[3, 3],\n",
    "\n",
    "               [4, 4]])\n",
    "t.vstack((a1, a2))"
   ]
  },
  {
   "cell_type": "markdown",
   "id": "64cc652c-2fc8-47d3-a59d-f9955ab4708d",
   "metadata": {},
   "source": [
    "Or stack them horizontally with hstack:"
   ]
  },
  {
   "cell_type": "code",
   "execution_count": null,
   "id": "09546310-02d3-465a-88a2-f6baadfb0c43",
   "metadata": {},
   "outputs": [],
   "source": [
    "t.hstack((a1, a2))"
   ]
  },
  {
   "cell_type": "markdown",
   "id": "c2998302-9307-4a7a-9ee2-802ed850bbb5",
   "metadata": {},
   "source": [
    "You can split an array into several smaller arrays using hsplit. You can specify either the number of equally shaped arrays to return or the columns after which the division should occur.\n",
    "\n",
    "Let’s say you have this array:"
   ]
  },
  {
   "cell_type": "code",
   "execution_count": null,
   "id": "869756a0-3022-4c4a-b2a6-663bf3d398c5",
   "metadata": {},
   "outputs": [],
   "source": [
    "x = t.arange(1, 25).reshape(2, 12)\n",
    "\n",
    "x"
   ]
  },
  {
   "cell_type": "markdown",
   "id": "ed036b46-18d5-4fef-8195-0905cf226015",
   "metadata": {},
   "source": [
    "If you wanted to split this array into three equally shaped arrays, you would run:"
   ]
  },
  {
   "cell_type": "code",
   "execution_count": null,
   "id": "0a01eab6-54dc-4975-b29c-771d5a7a498c",
   "metadata": {},
   "outputs": [],
   "source": [
    "t.hsplit(x, 3)"
   ]
  },
  {
   "cell_type": "markdown",
   "id": "0eaef818-248c-4309-83fb-3da3f61192df",
   "metadata": {},
   "source": [
    "If you wanted to split your array after the third and fourth column, you’d run:"
   ]
  },
  {
   "cell_type": "code",
   "execution_count": null,
   "id": "83e9d9f3-dbcf-4958-8380-a1e78b44ccf4",
   "metadata": {},
   "outputs": [],
   "source": [
    "t.hsplit(x, (3, 4))"
   ]
  },
  {
   "cell_type": "markdown",
   "id": "61702afa-a4fe-497f-a3b1-b8329e2fe31a",
   "metadata": {},
   "source": [
    "Learn more about [stacking and splitting arrays here](https://numpy.org/doc/stable/user/quickstart.html#quickstart-stacking-arrays)."
   ]
  },
  {
   "cell_type": "markdown",
   "id": "0be05409-8bd4-4a4d-ad9a-6a143ada4530",
   "metadata": {},
   "source": [
    "You can use the view method to create a new array object that looks at the same data as the original array (a shallow copy).\n",
    "\n",
    "Views are an important NumPy concept! NumPy functions, as well as operations like indexing and slicing, will return views whenever possible. This saves memory and is faster (no copy of the data has to be made). However it’s important to be aware of this - modifying data in a view also modifies the original array!\n",
    "\n",
    "Let’s say you create this array:"
   ]
  },
  {
   "cell_type": "code",
   "execution_count": null,
   "id": "c728e40e-b3c8-4637-8b84-9087a5bb15ce",
   "metadata": {},
   "outputs": [],
   "source": [
    "a = t.Tensor([[1, 2, 3, 4], [5, 6, 7, 8], [9, 10, 11, 12]])"
   ]
  },
  {
   "cell_type": "markdown",
   "id": "1575a8fb-f32e-49ce-a7e7-e16bd07aaae4",
   "metadata": {},
   "source": [
    "Now we create an array b1 by slicing a and modify the first element of b1. This will modify the corresponding element in a as well!"
   ]
  },
  {
   "cell_type": "code",
   "execution_count": null,
   "id": "f7e67e71-487b-464a-9551-41a029b0576d",
   "metadata": {},
   "outputs": [],
   "source": [
    "b1 = a[0, :]\n",
    "\n",
    "b1"
   ]
  },
  {
   "cell_type": "code",
   "execution_count": null,
   "id": "bdf91ac7-1084-4337-bb30-11e7c8b98710",
   "metadata": {},
   "outputs": [],
   "source": [
    "b1[0] = 99\n",
    "\n",
    "b1"
   ]
  },
  {
   "cell_type": "code",
   "execution_count": null,
   "id": "2b76337e-5749-42af-b2d5-d61e1ec815f2",
   "metadata": {},
   "outputs": [],
   "source": [
    "a"
   ]
  },
  {
   "cell_type": "markdown",
   "id": "a014c8e4-fa43-4a0f-b2e4-c2a1c8096910",
   "metadata": {},
   "source": [
    "Using the copy method will make a complete copy of the array and its data (a deep copy). To use this on your array, you could run:"
   ]
  },
  {
   "cell_type": "code",
   "execution_count": null,
   "id": "b56b23ad-c02c-47fe-ac33-5d7821c62180",
   "metadata": {},
   "outputs": [],
   "source": [
    "b2 = a.clone()"
   ]
  },
  {
   "cell_type": "markdown",
   "id": "6e95317f-243a-42d7-964b-11940558ed48",
   "metadata": {},
   "source": [
    "[Learn more about copies and views here](https://numpy.org/doc/stable/user/quickstart.html#quickstart-copies-and-views)."
   ]
  },
  {
   "cell_type": "markdown",
   "id": "d7237033-d93c-4973-b776-c8e1445cf901",
   "metadata": {},
   "source": [
    "#### Basic array operations\n",
    "\n",
    "This section covers addition, subtraction, multiplication, division, and more\n",
    "\n",
    "Once you’ve created your arrays, you can start to work with them. Let’s say, for example, that you’ve created two arrays, one called “data” and one called “ones”\n",
    "\n",
    "![](https://numpy.org/doc/stable/_images/np_array_dataones.png)\n",
    "\n",
    "You can add the arrays together with the plus sign."
   ]
  },
  {
   "cell_type": "code",
   "execution_count": null,
   "id": "21e115d0-8c26-4d03-9ecc-f6e3d44b4443",
   "metadata": {},
   "outputs": [],
   "source": [
    "data = t.Tensor([1, 2])\n",
    "\n",
    "ones = t.ones(2, dtype=int)\n",
    "\n",
    "data + ones"
   ]
  },
  {
   "cell_type": "markdown",
   "id": "7bb8a96f-c267-4ef8-bfd0-08daa313dfb8",
   "metadata": {},
   "source": [
    "![](https://numpy.org/doc/stable/_images/np_data_plus_ones.png)\n",
    "\n",
    "You can, of course, do more than just addition!"
   ]
  },
  {
   "cell_type": "code",
   "execution_count": null,
   "id": "5550544d-dec9-4082-b33b-1bcd1f5162dc",
   "metadata": {},
   "outputs": [],
   "source": [
    "data - ones"
   ]
  },
  {
   "cell_type": "code",
   "execution_count": null,
   "id": "f01d0e44-ca72-4ff1-87e4-2d3375bf7506",
   "metadata": {},
   "outputs": [],
   "source": [
    "data * data"
   ]
  },
  {
   "cell_type": "code",
   "execution_count": null,
   "id": "1bcb60d3-5fb6-4fa2-8fab-f3f69e3eca17",
   "metadata": {},
   "outputs": [],
   "source": [
    "data / data"
   ]
  },
  {
   "cell_type": "markdown",
   "id": "bd6fbfae-84f1-47fc-8bb3-5474a06f839e",
   "metadata": {},
   "source": [
    "![](https://numpy.org/doc/stable/_images/np_sub_mult_divide.png)\n",
    "\n",
    "Basic operations are simple with NumPy. If you want to find the sum of the elements in an array, you’d use sum(). This works for 1D arrays, 2D arrays, and arrays in higher dimensions."
   ]
  },
  {
   "cell_type": "code",
   "execution_count": null,
   "id": "e687f3d1-120e-4bd8-b26e-d65ee2ce3c01",
   "metadata": {},
   "outputs": [],
   "source": [
    "a = t.Tensor([1, 2, 3, 4])\n",
    "\n",
    "a.sum()"
   ]
  },
  {
   "cell_type": "markdown",
   "id": "9b76b4d9-277b-4396-9cb8-09803288e974",
   "metadata": {},
   "source": [
    "To add the rows or the columns in a 2D array, you would specify the axis.\n",
    "\n",
    "If you start with this array:"
   ]
  },
  {
   "cell_type": "code",
   "execution_count": null,
   "id": "85979821-a72f-44f3-9895-386590bf5124",
   "metadata": {},
   "outputs": [],
   "source": [
    "b = t.Tensor([[1, 1], [2, 2]])"
   ]
  },
  {
   "cell_type": "markdown",
   "id": "ee6f2b77-6ea8-4c8e-8605-634a6e06808e",
   "metadata": {},
   "source": [
    "You can sum over the axis of rows with:"
   ]
  },
  {
   "cell_type": "code",
   "execution_count": null,
   "id": "943d3ce6-ae75-41f2-9af6-3a56f8a71bf5",
   "metadata": {},
   "outputs": [],
   "source": [
    "b.sum(axis=0)"
   ]
  },
  {
   "cell_type": "markdown",
   "id": "a15c5dcd-5001-493a-96cd-91215f31985c",
   "metadata": {},
   "source": [
    "You can sum over the axis of columns with:"
   ]
  },
  {
   "cell_type": "code",
   "execution_count": null,
   "id": "e6e4e043-c2b8-4d92-874f-d583da75ef61",
   "metadata": {},
   "outputs": [],
   "source": [
    "b.sum(axis=1)"
   ]
  },
  {
   "cell_type": "markdown",
   "id": "befeebd1-1b73-469a-a3b5-43cca1973c34",
   "metadata": {},
   "source": [
    "[Learn more about basic operations here](https://numpy.org/doc/stable/user/quickstart.html#quickstart-basic-operations)."
   ]
  },
  {
   "cell_type": "markdown",
   "id": "62c5cb34-7b61-401e-a8b1-56b6ed417078",
   "metadata": {},
   "source": [
    "#### Broadcasting\n",
    "\n",
    "There are times when you might want to carry out an operation between an array and a single number (also called an operation between a vector and a scalar) or between arrays of two different sizes. For example, your array (we’ll call it “data”) might contain information about distance in miles but you want to convert the information to kilometers. You can perform this operation with:"
   ]
  },
  {
   "cell_type": "code",
   "execution_count": null,
   "id": "566cdeba-8225-4e0b-a228-f4754f3adacb",
   "metadata": {},
   "outputs": [],
   "source": [
    "data = t.Tensor([1.0, 2.0])\n",
    "\n",
    "data * 1.6"
   ]
  },
  {
   "cell_type": "markdown",
   "id": "a20eb862-9e2b-4087-bfee-5f6a191870ad",
   "metadata": {},
   "source": [
    "![](https://numpy.org/doc/stable/_images/np_multiply_broadcasting.png)\n",
    "\n",
    "NumPy understands that the multiplication should happen with each cell. That concept is called broadcasting. Broadcasting is a mechanism that allows NumPy to perform operations on arrays of different shapes. The dimensions of your array must be compatible, for example, when the dimensions of both arrays are equal or when one of them is 1. If the dimensions are not compatible, you will get a ValueError.\n",
    "\n",
    "[Learn more about broadcasting here](https://numpy.org/doc/stable/user/basics.broadcasting.html#basics-broadcasting)."
   ]
  },
  {
   "cell_type": "markdown",
   "id": "077965a6-86b7-4c64-8896-52f782655f38",
   "metadata": {},
   "source": [
    "#### More useful array operations\n",
    "\n",
    "This section covers maximum, minimum, sum, mean, product, standard deviation, and more\n",
    "\n",
    "NumPy also performs aggregation functions. In addition to min, max, and sum, you can easily run mean to get the average, prod to get the result of multiplying the elements together, std to get the standard deviation, and more."
   ]
  },
  {
   "cell_type": "code",
   "execution_count": null,
   "id": "04348749-0d2d-4e8b-85e3-680f85f3f424",
   "metadata": {},
   "outputs": [],
   "source": [
    "data.max()"
   ]
  },
  {
   "cell_type": "code",
   "execution_count": null,
   "id": "36253ea2-137b-401d-9630-859bca8d3a56",
   "metadata": {},
   "outputs": [],
   "source": [
    "data.min()"
   ]
  },
  {
   "cell_type": "code",
   "execution_count": null,
   "id": "e2d63a1d-873e-4750-9a22-b07460112a18",
   "metadata": {},
   "outputs": [],
   "source": [
    "data.sum()"
   ]
  },
  {
   "cell_type": "markdown",
   "id": "30034043-b304-42e5-9287-816962cd6a79",
   "metadata": {},
   "source": [
    "![](https://numpy.org/doc/stable/_images/np_aggregation.png)\n",
    "\n",
    "Let’s start with this array, called “a”"
   ]
  },
  {
   "cell_type": "code",
   "execution_count": null,
   "id": "b6e21050-d98e-4bd3-89f7-bbf30836620f",
   "metadata": {},
   "outputs": [],
   "source": [
    "a = t.Tensor([[0.45053314, 0.17296777, 0.34376245, 0.5510652],\n",
    "\n",
    "              [0.54627315, 0.05093587, 0.40067661, 0.55645993],\n",
    "\n",
    "              [0.12697628, 0.82485143, 0.26590556, 0.56917101]])"
   ]
  },
  {
   "cell_type": "markdown",
   "id": "fd9de2fa-a59c-4182-b8b3-b1ddb89715c0",
   "metadata": {},
   "source": [
    "It’s very common to want to aggregate along a row or column. By default, every NumPy aggregation function will return the aggregate of the entire array. To find the sum or the minimum of the elements in your array, run:"
   ]
  },
  {
   "cell_type": "code",
   "execution_count": null,
   "id": "415ab28a-08e8-4228-ac82-5b7408bcb05a",
   "metadata": {},
   "outputs": [],
   "source": [
    "a.sum()"
   ]
  },
  {
   "cell_type": "markdown",
   "id": "8c98f497-0f40-4f31-9428-aa1598f4d7c0",
   "metadata": {},
   "source": [
    "Or:"
   ]
  },
  {
   "cell_type": "code",
   "execution_count": null,
   "id": "4e1e0a0b-5941-4b93-bf48-0827e91ea597",
   "metadata": {},
   "outputs": [],
   "source": [
    "a.min()"
   ]
  },
  {
   "cell_type": "markdown",
   "id": "47e24dff-c95a-4e5f-84f9-1712e1964f9c",
   "metadata": {},
   "source": [
    "You can specify on which axis you want the aggregation function to be computed. For example, you can find the minimum value within each column by specifying axis=0."
   ]
  },
  {
   "cell_type": "code",
   "execution_count": null,
   "id": "1e012d22-a983-45fc-ae4b-445943b1a1fc",
   "metadata": {},
   "outputs": [],
   "source": [
    "a.min(axis=0)"
   ]
  },
  {
   "cell_type": "markdown",
   "id": "bfa7d920-025d-4e50-9ec9-06269596589b",
   "metadata": {},
   "source": [
    "You can pass Python lists of lists to create a 2-D array (or “matrix”) to represent them in NumPy."
   ]
  },
  {
   "cell_type": "code",
   "execution_count": null,
   "id": "35df2576-f06a-4c02-9bde-53d1a90e4d8b",
   "metadata": {},
   "outputs": [],
   "source": [
    "data = t.Tensor([[1, 2], [3, 4], [5, 6]])\n",
    "\n",
    "data"
   ]
  },
  {
   "cell_type": "markdown",
   "id": "43b90322-c9dd-4076-adbb-e2b97443ba97",
   "metadata": {},
   "source": [
    "![](https://numpy.org/doc/stable/_images/np_create_matrix.png)\n",
    "\n",
    "Indexing and slicing operations are useful when you’re manipulating matrices:"
   ]
  },
  {
   "cell_type": "code",
   "execution_count": null,
   "id": "dc5d359d-fc3a-4c7d-8363-97f2ab7256c7",
   "metadata": {},
   "outputs": [],
   "source": [
    "data[0, 1]"
   ]
  },
  {
   "cell_type": "code",
   "execution_count": null,
   "id": "50bc94e5-2d66-40f7-816e-cdd58f4754fb",
   "metadata": {},
   "outputs": [],
   "source": [
    "data[1:3]"
   ]
  },
  {
   "cell_type": "code",
   "execution_count": null,
   "id": "05a415e0-e0bd-4f99-ab1f-11f455906511",
   "metadata": {},
   "outputs": [],
   "source": [
    "data[0:2, 0]"
   ]
  },
  {
   "cell_type": "markdown",
   "id": "f2a21b6e-7f7a-4680-81ea-6541bf3e1547",
   "metadata": {},
   "source": [
    "![](https://numpy.org/doc/stable/_images/np_matrix_indexing.png)\n",
    "\n",
    "You can aggregate matrices the same way you aggregated vectors:"
   ]
  },
  {
   "cell_type": "code",
   "execution_count": null,
   "id": "6415cf4a-7d7a-4700-b74f-2b1462866885",
   "metadata": {},
   "outputs": [],
   "source": [
    "data.max()"
   ]
  },
  {
   "cell_type": "code",
   "execution_count": null,
   "id": "f8e707f5-e835-496c-a4e9-5caac1c0c9e9",
   "metadata": {},
   "outputs": [],
   "source": [
    "data.min()"
   ]
  },
  {
   "cell_type": "code",
   "execution_count": null,
   "id": "21886701-4a61-47d1-ab75-a8cc1069b5e4",
   "metadata": {},
   "outputs": [],
   "source": [
    "data.sum()"
   ]
  },
  {
   "cell_type": "markdown",
   "id": "7f224bf0-6fa2-45f4-ac4b-63cafd7ba515",
   "metadata": {},
   "source": [
    "![](https://numpy.org/doc/stable/_images/np_matrix_aggregation.png)\n",
    "\n",
    "You can aggregate all the values in a matrix and you can aggregate them across columns or rows using the axis parameter. To illustrate this point, let’s look at a slightly modified dataset:"
   ]
  },
  {
   "cell_type": "code",
   "execution_count": null,
   "id": "ed9d72be-88e6-4bca-ad41-aa69bfecba72",
   "metadata": {},
   "outputs": [],
   "source": [
    "data = t.Tensor([[1, 2], [5, 3], [4, 6]])\n",
    "\n",
    "data"
   ]
  },
  {
   "cell_type": "code",
   "execution_count": null,
   "id": "35699caf-e40f-4d3a-a247-238a10ac6d34",
   "metadata": {},
   "outputs": [],
   "source": [
    "data.max(axis=0)"
   ]
  },
  {
   "cell_type": "code",
   "execution_count": null,
   "id": "fafd3d4f-e029-4875-8fdb-2df2d36bde80",
   "metadata": {},
   "outputs": [],
   "source": [
    "data.max(axis=1)"
   ]
  },
  {
   "cell_type": "markdown",
   "id": "9c8dba75-43c7-4575-a1b5-f46f42f6d6ac",
   "metadata": {},
   "source": [
    "![](https://numpy.org/doc/stable/_images/np_matrix_aggregation_row.png)\n",
    "\n",
    "Once you’ve created your matrices, you can add and multiply them using arithmetic operators if you have two matrices that are the same size."
   ]
  },
  {
   "cell_type": "code",
   "execution_count": null,
   "id": "52047ac0-a44b-486c-a88e-a25d79c1434e",
   "metadata": {},
   "outputs": [],
   "source": [
    "data = t.Tensor([[1, 2], [3, 4]])\n",
    "\n",
    "ones = t.Tensor([[1, 1], [1, 1]])\n",
    "data + ones\n"
   ]
  },
  {
   "cell_type": "markdown",
   "id": "dc6a097c-d610-4ff2-91e9-f57a2ac3eb2f",
   "metadata": {},
   "source": [
    "![](https://numpy.org/doc/stable/_images/np_matrix_arithmetic.png)\n",
    "\n",
    "You can do these arithmetic operations on matrices of different sizes, but only if one matrix has only one column or one row. In this case, NumPy will use its broadcast rules for the operation."
   ]
  },
  {
   "cell_type": "code",
   "execution_count": null,
   "id": "05933295-3dcc-46ec-b7e1-bad26609acaa",
   "metadata": {},
   "outputs": [],
   "source": [
    "data = t.Tensor([[1, 2], [3, 4], [5, 6]])\n",
    "\n",
    "ones_row = t.Tensor([[1, 1]])\n",
    "\n",
    "data + ones_row"
   ]
  },
  {
   "cell_type": "markdown",
   "id": "6542c5d8-c726-422b-9530-c078bd588415",
   "metadata": {},
   "source": [
    "![](https://numpy.org/doc/stable/_images/np_matrix_broadcasting.png)\n",
    "\n",
    "Be aware that when NumPy prints N-dimensional arrays, the last axis is looped over the fastest while the first axis is the slowest. For instance:"
   ]
  },
  {
   "cell_type": "code",
   "execution_count": null,
   "id": "f29488c2-0c5c-46c8-a3bc-a1ba90250135",
   "metadata": {},
   "outputs": [],
   "source": [
    "t.ones((4, 3, 2))"
   ]
  },
  {
   "cell_type": "markdown",
   "id": "20916be7-349b-4978-ab37-44a1213068b6",
   "metadata": {},
   "source": [
    "There are often instances where we want NumPy to initialize the values of an array. NumPy offers functions like ones() and zeros(), and the random.Generator class for random number generation for that. All you need to do is pass in the number of elements you want it to generate:"
   ]
  },
  {
   "cell_type": "code",
   "execution_count": null,
   "id": "31b16f3a-ef61-4011-a9ba-b7187636b4b8",
   "metadata": {},
   "outputs": [],
   "source": [
    "t.ones(3)"
   ]
  },
  {
   "cell_type": "code",
   "execution_count": null,
   "id": "2155caca-486d-4aaf-beef-73524a7d8856",
   "metadata": {},
   "outputs": [],
   "source": [
    "t.zeros(3)"
   ]
  },
  {
   "cell_type": "code",
   "execution_count": null,
   "id": "7670683c-e19a-44ad-ac82-516f4c0fed4f",
   "metadata": {},
   "outputs": [],
   "source": [
    "t.rand(3) "
   ]
  },
  {
   "cell_type": "markdown",
   "id": "7fb38941-2072-411a-908e-950400327c07",
   "metadata": {},
   "source": [
    "![](https://numpy.org/doc/stable/_images/np_ones_zeros_random.png)\n",
    "\n",
    "You can also use ones(), zeros(), and random() to create a 2D array if you give them a tuple describing the dimensions of the matrix:"
   ]
  },
  {
   "cell_type": "code",
   "execution_count": null,
   "id": "7d45cc11-5f9c-4217-8598-a0ca70f1519f",
   "metadata": {},
   "outputs": [],
   "source": [
    "t.ones((3, 2))"
   ]
  },
  {
   "cell_type": "code",
   "execution_count": null,
   "id": "e0f277d5-0544-4a99-95d6-d6751384edca",
   "metadata": {},
   "outputs": [],
   "source": [
    "t.zeros((3, 2))"
   ]
  },
  {
   "cell_type": "code",
   "execution_count": null,
   "id": "d532be9d-ef25-4961-ac6a-7ed8fe4a1553",
   "metadata": {},
   "outputs": [],
   "source": [
    "t.rand((3, 2)) "
   ]
  },
  {
   "cell_type": "markdown",
   "id": "763f4046-b7a3-4b2c-8312-b75d140a8075",
   "metadata": {},
   "source": [
    "![](https://numpy.org/doc/stable/_images/np_ones_zeros_matrix.png)\n",
    "\n",
    "Read more about creating arrays, filled with 0’s, 1’s, other values or uninitialized, at [array creation routines](https://numpy.org/doc/stable/reference/routines.array-creation.html#routines-array-creation)."
   ]
  },
  {
   "cell_type": "markdown",
   "id": "c8b4e003-a183-4ed6-991d-908dd4f0c754",
   "metadata": {},
   "source": [
    "#### Generating random numbers\n",
    "\n",
    "The use of random number generation is an important part of the configuration and evaluation of many numerical and machine learning algorithms. Whether you need to randomly initialize weights in an artificial neural network, split data into random sets, or randomly shuffle your dataset, being able to generate random numbers (actually, repeatable pseudo-random numbers) is essential.\n",
    "\n",
    "With Generator.integers, you can generate random integers from low (remember that this is inclusive with NumPy) to high (exclusive). You can set endpoint=True to make the high number inclusive.\n",
    "\n",
    "You can generate a 2 x 4 array of random integers between 0 and 4 with:"
   ]
  },
  {
   "cell_type": "code",
   "execution_count": null,
   "id": "cb302e3d-2180-4ea3-bee0-627c63b6f009",
   "metadata": {},
   "outputs": [],
   "source": [
    "t.randint(5, size=(2, 4)) "
   ]
  },
  {
   "cell_type": "markdown",
   "id": "1387989a-13ab-4abb-ba73-368f1ceae36e",
   "metadata": {},
   "source": [
    "[Read more about random number generation here](https://numpy.org/doc/stable/reference/random/index.html#numpyrandom)."
   ]
  },
  {
   "cell_type": "markdown",
   "id": "a66a1ae9-3ac8-481b-8386-557f1bc1e3ef",
   "metadata": {},
   "source": [
    "#### Transposing and reshaping a matrix\n",
    "\n",
    "This section covers arr.reshape(), arr.transpose(), arr.T\n",
    "\n",
    "It’s common to need to transpose your matrices. NumPy arrays have the property T that allows you to transpose a matrix.\n",
    "![](https://numpy.org/doc/stable/_images/np_transposing_reshaping.png)\n",
    "\n",
    "You may also need to switch the dimensions of a matrix. This can happen when, for example, you have a model that expects a certain input shape that is different from your dataset. This is where the reshape method can be useful. You simply need to pass in the new dimensions that you want for the matrix."
   ]
  },
  {
   "cell_type": "code",
   "execution_count": null,
   "id": "1f2d3b68-375c-4371-976e-140e34c40f82",
   "metadata": {},
   "outputs": [],
   "source": [
    "data.reshape(2, 3)"
   ]
  },
  {
   "cell_type": "code",
   "execution_count": null,
   "id": "f0469cef-e907-42d8-b3d4-575b4041a52f",
   "metadata": {},
   "outputs": [],
   "source": [
    "data.reshape(3, 2)"
   ]
  },
  {
   "cell_type": "markdown",
   "id": "b09e50cd-dd97-4ca1-9245-744d7e1e23ec",
   "metadata": {},
   "source": [
    "![](https://numpy.org/doc/stable/_images/np_reshape.png)\n",
    "\n",
    "You can also use .transpose() to reverse or change the axes of an array according to the values you specify.\n",
    "\n",
    "If you start with this array:"
   ]
  },
  {
   "cell_type": "code",
   "execution_count": null,
   "id": "07152c5d-ae92-48f5-8562-b59096bfcb4b",
   "metadata": {},
   "outputs": [],
   "source": [
    "arr = t.arange(6).reshape((2, 3))\n",
    "\n",
    "arr"
   ]
  },
  {
   "cell_type": "markdown",
   "id": "2617c959-d1e8-4f00-a08a-e5f0b0255333",
   "metadata": {},
   "source": [
    "You can transpose your array with arr.transpose()."
   ]
  },
  {
   "cell_type": "code",
   "execution_count": null,
   "id": "cbbfe275-d6c7-455c-bc6f-c7c0e1b258c2",
   "metadata": {},
   "outputs": [],
   "source": [
    "arr.transpose(0, 1)"
   ]
  },
  {
   "cell_type": "markdown",
   "id": "a7206a2d-d205-45ab-a6a1-cd671abbf14a",
   "metadata": {},
   "source": [
    "You can also use arr.T:"
   ]
  },
  {
   "cell_type": "code",
   "execution_count": null,
   "id": "24918d3d-2e26-4a81-ba0a-59df45d7adbd",
   "metadata": {},
   "outputs": [],
   "source": [
    "arr.T"
   ]
  },
  {
   "cell_type": "markdown",
   "id": "4842095b-44c0-4592-96ca-58a81ed5abe2",
   "metadata": {},
   "source": [
    "Sometimes you want to represent multiple matrices in a single array. Let's say we have two matrices m1 and m2 concatenated in an array as ms"
   ]
  },
  {
   "cell_type": "code",
   "execution_count": null,
   "id": "5d3161a0-7b56-43dd-b734-20b39ca19bf4",
   "metadata": {},
   "outputs": [],
   "source": [
    "m1 = t.arange(6).reshape(3, 2)\n",
    "m2 = t.arange(6, 12).reshape(3, 2)\n",
    "ms = t.stack((m1, m2))\n",
    "print(ms.shape)\n",
    "ms"
   ]
  },
  {
   "cell_type": "markdown",
   "id": "843fa2f5-c7f6-4d42-a32e-47b17605cb96",
   "metadata": {},
   "source": [
    "To take the transpose of each matrix, m1 and m2, you can use swapaxes or transpose"
   ]
  },
  {
   "cell_type": "code",
   "execution_count": null,
   "id": "11455a7c-7415-4230-b7b8-380f3aeab3bb",
   "metadata": {},
   "outputs": [],
   "source": [
    "ms_T = ms.permute((0, 2, 1))\n",
    "print(ms_T.shape)\n",
    "ms_T"
   ]
  },
  {
   "cell_type": "code",
   "execution_count": null,
   "id": "a631fc9e-40e8-4bed-8f17-8c0a1e6dd11e",
   "metadata": {},
   "outputs": [],
   "source": [
    "ms_T = ms.swapaxes(-1, -2)\n",
    "print(ms_T.shape)\n",
    "ms_T"
   ]
  },
  {
   "cell_type": "markdown",
   "id": "8549dfb0-44fd-49ef-af1a-a5def29137dd",
   "metadata": {},
   "source": [
    "To learn more about transposing and reshaping arrays, see [transpose](https://numpy.org/doc/stable/reference/generated/numpy.transpose.html#numpy.transpose), [swapaxes](https://numpy.org/doc/stable/reference/generated/numpy.swapaxes.html#numpy.swapaxes) and [reshape](https://numpy.org/doc/stable/reference/generated/numpy.reshape.html#numpy.reshape)."
   ]
  },
  {
   "cell_type": "markdown",
   "id": "bd7f1fab-ac94-443d-9bfc-ca86e6cc8812",
   "metadata": {},
   "source": [
    "                                           \n",
    "#### Reshaping and flattening multidimensional arrays"
   ]
  },
  {
   "cell_type": "markdown",
   "id": "d842ab81-c4b1-4742-a854-295ba75ed97a",
   "metadata": {},
   "source": [
    "This section covers .flatten(), ravel()\n",
    "\n",
    "There are two popular ways to flatten an array: .flatten() and .ravel(). The primary difference between the two is that the new array created using ravel() is actually a reference to the parent array (i.e., a “view”). This means that any changes to the new array will affect the parent array as well. Since ravel does not create a copy, it’s memory efficient.\n",
    "\n",
    "If you start with this array:"
   ]
  },
  {
   "cell_type": "code",
   "execution_count": null,
   "id": "dc371298-8ffe-4857-a3ce-d4325c69478d",
   "metadata": {},
   "outputs": [],
   "source": [
    "x = t.Tensor([[1 , 2, 3, 4], [5, 6, 7, 8], [9, 10, 11, 12]])"
   ]
  },
  {
   "cell_type": "markdown",
   "id": "819ec472-73fb-4cc1-abce-84d3706dc9ea",
   "metadata": {},
   "source": [
    "You can use flatten to flatten your array into a 1D array."
   ]
  },
  {
   "cell_type": "code",
   "execution_count": null,
   "id": "ac950055-6b37-451f-b66f-33ef8d1e21ef",
   "metadata": {},
   "outputs": [],
   "source": [
    "x.flatten()\n"
   ]
  },
  {
   "cell_type": "markdown",
   "id": "0089e494-456f-41f5-b982-61615d7d8706",
   "metadata": {},
   "source": [
    "When you use flatten, changes to your new array won’t change the parent array.\n",
    "\n",
    "For example:"
   ]
  },
  {
   "cell_type": "code",
   "execution_count": null,
   "id": "56b51e34-a183-4225-8f06-d016b64fb1e4",
   "metadata": {},
   "outputs": [],
   "source": [
    "a1 = x.flatten()\n",
    "\n",
    "a1[0] = 99\n",
    "\n",
    "print(x)  # Original array\n",
    "print(a1)  # New array"
   ]
  },
  {
   "cell_type": "markdown",
   "id": "0085a025-8691-4986-b0e1-d98fff97ebe5",
   "metadata": {},
   "source": [
    "But when you use ravel, the changes you make to the new array will affect the parent array.\n",
    "\n",
    "For example:"
   ]
  },
  {
   "cell_type": "code",
   "execution_count": null,
   "id": "c990951a-38c4-4a85-8097-749cf6d772d8",
   "metadata": {},
   "outputs": [],
   "source": [
    "a2 = x.ravel()\n",
    "\n",
    "a2[0] = 98\n",
    "\n",
    "print(x)  # Original array\n",
    "\n",
    "print(a2)  # New array"
   ]
  },
  {
   "cell_type": "markdown",
   "id": "f7f88f0e-ec3c-4359-b9ba-b033f67feda7",
   "metadata": {},
   "source": [
    "Read more about flatten at [ndarray.flatten](https://numpy.org/doc/stable/reference/generated/numpy.ndarray.flatten.html#numpy.ndarray.flatten) and ravel at [ravel](https://numpy.org/doc/stable/reference/generated/numpy.ravel.html#numpy.ravel).\n"
   ]
  },
  {
   "cell_type": "markdown",
   "id": "cd2ed804-ac4d-435d-a6fb-1d8f00536b52",
   "metadata": {},
   "source": [
    "#### Working with mathematical formulas\n",
    "\n",
    "The ease of implementing mathematical formulas that work on arrays is one of the things that make NumPy so widely used in the scientific Python community.\n",
    "\n",
    "For example, this is the mean square error formula (a central formula used in supervised machine learning models that deal with regression):\n",
    "![](https://numpy.org/doc/stable/_images/np_MSE_formula.png)\n",
    "\n",
    "Implementing this formula is simple and straightforward in NumPy:\n",
    "![](https://numpy.org/doc/stable/_images/np_MSE_implementation.png)\n",
    "\n",
    "What makes this work so well is that predictions and labels can contain one or a thousand values. They only need to be the same size.\n",
    "\n",
    "You can visualize it this way:\n",
    "![](https://numpy.org/doc/stable/_images/np_mse_viz1.png)\n",
    "\n",
    "In this example, both the predictions and labels vectors contain three values, meaning n has a value of three. After we carry out subtractions the values in the vector are squared. Then NumPy sums the values, and your result is the error value for that prediction and a score for the quality of the model.\n",
    "![](https://numpy.org/doc/stable/_images/np_mse_viz2.png) ![](https://numpy.org/doc/stable/_images/np_MSE_explanation2.png)"
   ]
  },
  {
   "cell_type": "markdown",
   "id": "ac09383e-0fb8-4a36-9ede-cc93807b0305",
   "metadata": {},
   "source": [
    "#### Common mathematical operations\n",
    "\n",
    "1. Scalar-scalar multiplication\n",
    "$$ f(a, b) = a b $$"
   ]
  },
  {
   "cell_type": "code",
   "execution_count": null,
   "id": "9c3011cd-ca50-4b09-8602-bbd560cfa470",
   "metadata": {},
   "outputs": [],
   "source": [
    "a = t.Tensor([2]).to(t.float64)\n",
    "b = t.Tensor([3]).to(t.float64)\n",
    "a * b"
   ]
  },
  {
   "cell_type": "markdown",
   "id": "a0a4cdbb-4d50-4022-ae15-a49ad56abe0f",
   "metadata": {},
   "source": [
    "Numpy allows us to multiply many scalars at the same time. "
   ]
  },
  {
   "cell_type": "code",
   "execution_count": null,
   "id": "87fe8ebb-e6b2-4be2-bef8-f08da71b1400",
   "metadata": {},
   "outputs": [],
   "source": [
    "a = t.Tensor([2, 5]) \n",
    "b = t.Tensor([3, 7])\n",
    "a, b"
   ]
  },
  {
   "cell_type": "code",
   "execution_count": null,
   "id": "6abec149-8946-4b34-a45d-0470d9e94012",
   "metadata": {},
   "outputs": [],
   "source": [
    "a * b"
   ]
  },
  {
   "cell_type": "markdown",
   "id": "52d2e76b-b947-4982-be71-75357f8f03ec",
   "metadata": {},
   "source": [
    "2. Element-wise multiplication of matrices\n",
    "\n",
    "Sclar-scalar multiplication in numpy is same as element-wise multiplication of  matrices, also known as Hadamard product\n",
    "$$ f(A, B) = A \\odot B $$\n",
    "\n",
    "$$\n",
    "\\begin{bmatrix}a_{11}&a_{12}&a_{13}&a_{14}\\\\a_{21}&a_{22}&a_{23}&a_{24}\\\\a_{31}&a_{32}&a_{33}&a_{34}\\end{bmatrix} \\circ \\begin{bmatrix}b_{11}&b_{12}&b_{13}&b_{14}\\\\b_{21}&b_{22}&b_{23}&b_{24}\\\\b_{31}&b_{32}&b_{33}&b_{34}\\end{bmatrix}=\\begin{bmatrix}a_{11}\\,b_{11}&a_{12}\\,b_{12}&a_{13}\\,b_{13}&a_{14}\\,b_{14}\\\\a_{21}\\,b_{21}&a_{22}\\,b_{22}&a_{23}\\,b_{23}&a_{24}\\,b_{24}\\\\a_{31}\\,b_{31}&a_{32}\\,b_{32}&a_{33}\\,b_{33}&a_{34}\\,b_{34}\\end{bmatrix} $$"
   ]
  },
  {
   "cell_type": "code",
   "execution_count": null,
   "id": "403ab610-918b-4b01-af7b-cbe008d43fe3",
   "metadata": {},
   "outputs": [],
   "source": [
    "A = t.arange(12).reshape(3, 4)\n",
    "B = t.arange(12, 24).reshape(3, 4)\n",
    "A, B"
   ]
  },
  {
   "cell_type": "code",
   "execution_count": null,
   "id": "37c9f4f6-e596-4efd-9a60-81caa4d6aeb8",
   "metadata": {},
   "outputs": [],
   "source": [
    "A * B"
   ]
  },
  {
   "cell_type": "markdown",
   "id": "76319a3d-f380-4c4e-b16d-ee0e05b8e9b0",
   "metadata": {},
   "source": [
    "2. Scalar-vector multiplication\n",
    "$\\newcommand{\\bfv}{\\mathbf{v}}$\n",
    "$$ f(\\alpha, \\bfv) = \\alpha \\bfv $$\n",
    "\n"
   ]
  },
  {
   "cell_type": "code",
   "execution_count": null,
   "id": "f180252c-b6ba-497b-9d12-ae8d9c1c8ce8",
   "metadata": {},
   "outputs": [],
   "source": [
    "alpha = t.Tensor([3]).to(t.float64)\n",
    "v = t.Tensor([2, 3]).to(t.float64)\n",
    "alpha, v"
   ]
  },
  {
   "cell_type": "code",
   "execution_count": null,
   "id": "e2468b2b-d923-4358-8456-2b45016a0f36",
   "metadata": {},
   "outputs": [],
   "source": [
    "alpha * v"
   ]
  },
  {
   "cell_type": "markdown",
   "id": "25881102-d210-494c-9b6f-0233b3b407bc",
   "metadata": {},
   "source": [
    "Numpy allows us to multiply a batch of scalars with a batch of vectors at the same time through broadcasting. Let's say you want to multiply three scalars $\\alpha_1 = 1, \\alpha_2 = 2, \\alpha_3 = 3$ with three vectors $\\bfv_1 = [2; 3], \\bfv_2 = [5; 7],  \\bfv_3 = [9; 11]$, respectively. You can combine them in single arrays $\\alpha_s = [\\alpha_1; \\alpha_2; \\alpha_3]$ and a matrix of vectors $\\bfv_s = \\begin{bmatrix} \\bfv_1 \\\\ \\bfv_2 \\\\ \\bfv_3 \\end{bmatrix}$"
   ]
  },
  {
   "cell_type": "code",
   "execution_count": null,
   "id": "eb68728c-e443-4a87-b242-7fee764370d6",
   "metadata": {},
   "outputs": [],
   "source": [
    "alphas = t.Tensor([1, 2, 3])\n",
    "vs = t.Tensor([[2, 3],\n",
    "               [5, 7],\n",
    "               [9, 11]])\n",
    "print(vs.shape)\n",
    "alphas, vs"
   ]
  },
  {
   "cell_type": "markdown",
   "id": "69d98537-1b76-4062-88a0-1f6bced88f48",
   "metadata": {},
   "source": [
    "If we simply multiply `alphas` with `vs`, numpy will throw an error:\n"
   ]
  },
  {
   "cell_type": "code",
   "execution_count": null,
   "id": "11592512-8be9-484e-ad42-fb453830e986",
   "metadata": {
    "tags": [
     "raises-exception"
    ]
   },
   "outputs": [],
   "source": [
    "alphas * vs"
   ]
  },
  {
   "cell_type": "markdown",
   "id": "bd514255-098b-400c-87eb-39cb860f43ca",
   "metadata": {},
   "source": [
    "We need to carefully choose the axes along which we want to multiply `alphas` with `vs`. Making `alpha.shape = (3, 1)` will do the trick."
   ]
  },
  {
   "cell_type": "code",
   "execution_count": null,
   "id": "78b8e118-4b30-4113-9e75-38ba1dc2dffe",
   "metadata": {},
   "outputs": [],
   "source": [
    "alphas[:, None] * vs"
   ]
  },
  {
   "cell_type": "markdown",
   "id": "d54f4515-4c46-45e4-a26d-60a6ddcd9b87",
   "metadata": {},
   "source": [
    "3. Vector-vector dot product\n",
    "$\\newcommand{\\bfa}{\\mathbf{a}}$\n",
    "$\\newcommand{\\bfb}{\\mathbf{b}}$\n",
    "$$ f(\\bfa, \\bfb) = \\bfa^\\top \\bfb $$"
   ]
  },
  {
   "cell_type": "code",
   "execution_count": null,
   "id": "1302f017-a7f7-4978-8382-e2fb0e3059b0",
   "metadata": {},
   "outputs": [],
   "source": [
    "a = t.Tensor([2, 3])\n",
    "b = t.Tensor([5, 7])\n",
    "a, b"
   ]
  },
  {
   "cell_type": "code",
   "execution_count": null,
   "id": "6c89a6ef-1a45-47c8-a77f-b014ff3b0274",
   "metadata": {},
   "outputs": [],
   "source": [
    "a @ b"
   ]
  },
  {
   "cell_type": "markdown",
   "id": "f2ad6f47-80e1-4ff7-a5a3-eac3b4076696",
   "metadata": {},
   "source": [
    "Note that you do not need `a.T` because `a` is 1-D array and taking its transpose will not do anything."
   ]
  },
  {
   "cell_type": "code",
   "execution_count": null,
   "id": "47a265ab-5209-4614-ae52-95ef524d2eb2",
   "metadata": {},
   "outputs": [],
   "source": [
    "a.T"
   ]
  },
  {
   "cell_type": "markdown",
   "id": "c7940bc2-a5e8-4aa6-bcc7-2dc6ea967e1e",
   "metadata": {},
   "source": [
    "Look at the rules for [`np.matmul`](https://numpy.org/doc/stable/reference/generated/numpy.matmul.html) which implements the `@` operator.\n",
    "\n",
    "1. If both arguments are 2-D they are multiplied like conventional matrices.\n",
    "2. If either argument is N-D, N > 2, it is treated as a stack of matrices residing in the last two indexes and broadcast accordingly.\n",
    "3. If the first argument is 1-D, it is promoted to a matrix by prepending a 1 to its dimensions. After matrix multiplication the prepended 1 is removed.\n",
    "4. If the second argument is 1-D, it is promoted to a matrix by appending a 1 to its dimensions. After matrix multiplication the appended 1 is removed.\n",
    "\n",
    "In this case rules 3 and 4 are in effect."
   ]
  },
  {
   "cell_type": "markdown",
   "id": "859d7f72-1700-4080-9fb4-f00655a0e0dd",
   "metadata": {},
   "source": [
    "How can you multiply many vectors together. Let's try to multiply 3 pairs of vectors ($\\bfa_1, \\bfa_2, \\bfa_3$) and (($\\bfb_1, \\bfb_2, \\bfb_3$) using numpy."
   ]
  },
  {
   "cell_type": "code",
   "execution_count": null,
   "id": "588837a4-4e7f-4e33-87b6-3dbba2b349b7",
   "metadata": {},
   "outputs": [],
   "source": [
    "_as = t.Tensor([[2, 3], # a_1\n",
    "                [3, 5], # a_2\n",
    "                [5, 7]]) # a_3\n",
    "bs = t.Tensor([[7, 11], # b_1\n",
    "               [11, 13], # b_2\n",
    "               [13, 17]]) # b_3\n",
    "_as.shape, bs.shape"
   ]
  },
  {
   "cell_type": "markdown",
   "id": "f323dd62-0388-49c6-a581-c543dec969e7",
   "metadata": {},
   "source": [
    "If we simply use `@` between `_as` and `bs`, then we will get an error."
   ]
  },
  {
   "cell_type": "code",
   "execution_count": null,
   "id": "e0ebb574-11e8-4434-bb06-0e0bb6426159",
   "metadata": {
    "tags": [
     "raises-exception"
    ]
   },
   "outputs": [],
   "source": [
    "_as @ bs"
   ]
  },
  {
   "cell_type": "markdown",
   "id": "ddf80540-3bec-42d7-b66e-25df0e56eac0",
   "metadata": {},
   "source": [
    "We can tranpose `_as`, but that will give us a `(2,2)` array while we only expect `3` scalars (not 4) each one from corresponding vector multiplication between $\\bfa_i^\\top \\bfb_i$. There are multiple ways to accomplish this.\n",
    "\n",
    "Approach 1: Make the last two dimensions compatible for matrix multiplication, then use `@` with rule 2 of `np.matmul`., Use `np.squeeze` to remove the unnecessary dimensions with size 1."
   ]
  },
  {
   "cell_type": "code",
   "execution_count": null,
   "id": "a1e7eb88-2a41-4f53-a90f-3ee58c7168f3",
   "metadata": {},
   "outputs": [],
   "source": [
    "_as[..., None, :].shape, bs[..., None].shape"
   ]
  },
  {
   "cell_type": "code",
   "execution_count": null,
   "id": "83b68a79-9601-411a-9303-ed97defdada6",
   "metadata": {
    "tags": [
     "raise-exception"
    ]
   },
   "outputs": [],
   "source": [
    "(_as[..., None, :] @ bs[..., None]).squeeze((-1, -2))"
   ]
  },
  {
   "cell_type": "markdown",
   "id": "36b62b40-7c06-4fc0-820a-4bcc943c9b57",
   "metadata": {},
   "source": [
    "Approach 2: Take element-wise product and sum over the last axis (which by definition is the vector-vector dot product)."
   ]
  },
  {
   "cell_type": "code",
   "execution_count": null,
   "id": "0c1deb7f-9c2e-4922-80d9-73be7759b967",
   "metadata": {},
   "outputs": [],
   "source": [
    "(_as * bs).sum(axis=-1)"
   ]
  },
  {
   "cell_type": "markdown",
   "id": "5745e480-6f19-45e0-a29e-33fedf789bcb",
   "metadata": {},
   "source": [
    "4. Matrix-vector product\n",
    "$$ f(A, \\bfb) = A\\bfb $$\n",
    "Following the vector-vector product example, multiple matrix-vector pairs can be multiplied using the same tricks."
   ]
  },
  {
   "cell_type": "code",
   "execution_count": null,
   "id": "27f06688-0348-4345-93c2-d48271c9b4e9",
   "metadata": {},
   "outputs": [],
   "source": [
    "As = t.rand(2, 5, 3) # Two (5x3) matrices\n",
    "bs = t.rand(2, 3) # Two (3x1) vectors\n",
    "As.shape, bs.shape"
   ]
  },
  {
   "cell_type": "markdown",
   "id": "2dcb9d79-700e-49d2-b8fd-1bb805d4eef9",
   "metadata": {},
   "source": [
    "Approach 1: Make them compatiable with rule 2 of `np.matmul`"
   ]
  },
  {
   "cell_type": "code",
   "execution_count": null,
   "id": "ddac4b25-e40a-424d-9a52-bad87abe21d5",
   "metadata": {},
   "outputs": [],
   "source": [
    "Abprod1 = (As @ bs[..., None]).squeeze(-1) # Two (5x1) vectors\n",
    "Abprod1.shape"
   ]
  },
  {
   "cell_type": "markdown",
   "id": "e15a5506-9009-45a9-b2db-84adc6052c45",
   "metadata": {},
   "source": [
    "Approach 2: Use element-wise multiplication followed by sum along the right axis."
   ]
  },
  {
   "cell_type": "code",
   "execution_count": null,
   "id": "f3232657-a629-4a71-8ce8-5cbbe196c59a",
   "metadata": {},
   "outputs": [],
   "source": [
    "Abprod2 = (As * bs[..., None, :]).sum(axis=-1)\n",
    "Abprod2.shape\n",
    "assert t.allclose(Abprod1, Abprod2)"
   ]
  },
  {
   "cell_type": "markdown",
   "id": "58f0bc5c-9269-4969-9c96-753ea06796fc",
   "metadata": {},
   "source": [
    "5. Matrix-matrix product\n",
    "\n",
    "$$ f(A, B) = AB $$\n",
    "\n",
    "This is straightforward due to the rule 2 of `np.matmul`"
   ]
  },
  {
   "cell_type": "code",
   "execution_count": null,
   "id": "adcf47d5-e5df-4fc9-8873-6011cc378a53",
   "metadata": {},
   "outputs": [],
   "source": [
    "As = t.rand(2, 5, 3) # Two (5x3) matrices\n",
    "Bs = t.rand(2, 3, 7) # Two (3x7) vectors\n",
    "As.shape, Bs.shape"
   ]
  },
  {
   "cell_type": "code",
   "execution_count": null,
   "id": "cf003aad-4661-43a3-8ff8-ed5ae85ffc3c",
   "metadata": {},
   "outputs": [],
   "source": [
    "(As @ Bs).shape"
   ]
  },
  {
   "cell_type": "markdown",
   "id": "9b9d9cb1-1507-4056-92d4-1261e936c409",
   "metadata": {},
   "source": [
    "6. Norm/magnitude of a vector\n",
    "$$ f(\\bfv) = \\|\\bfv\\|$$ \n"
   ]
  },
  {
   "cell_type": "code",
   "execution_count": null,
   "id": "bdd6d402-2e1d-4538-9956-5aca05d7f71d",
   "metadata": {},
   "outputs": [],
   "source": [
    "v = t.Tensor([2, 3, 4])\n",
    "t.linalg.norm(v)"
   ]
  },
  {
   "cell_type": "markdown",
   "id": "b974cd8c-138c-4608-bce9-b33733499f16",
   "metadata": {},
   "source": [
    "Norm of many vectors"
   ]
  },
  {
   "cell_type": "code",
   "execution_count": null,
   "id": "426b222e-2866-4112-8fa2-edaf8906dbf2",
   "metadata": {},
   "outputs": [],
   "source": [
    "vs = t.Tensor([[2, 3, 4], # v_1\n",
    "               [3, 4, 5]]) # v_2\n",
    "t.linalg.norm(vs, axis=-1)"
   ]
  },
  {
   "cell_type": "markdown",
   "id": "8d91917c-0fe0-44b3-a317-eb355e0f02da",
   "metadata": {},
   "source": [
    "7. Inverse of a matrix\n",
    "\n",
    "$$ f(A) = A^{-1}$$ "
   ]
  },
  {
   "cell_type": "code",
   "execution_count": null,
   "id": "dc1cb316-9952-42b3-a9bd-8c4ae9884b71",
   "metadata": {},
   "outputs": [],
   "source": [
    "A = t.Tensor([[1, 2],\n",
    "              [2, 1]])\n",
    "t.linalg.inv(A)"
   ]
  },
  {
   "cell_type": "markdown",
   "id": "573aa921-fa4c-4414-aee1-ced4a50d64b4",
   "metadata": {},
   "source": [
    "Inverse of many matrices"
   ]
  },
  {
   "cell_type": "code",
   "execution_count": null,
   "id": "78d9cc58-fc25-4902-9d3e-39e36aa5b1c7",
   "metadata": {},
   "outputs": [],
   "source": [
    "As = t.Tensor([[[1, 2],\n",
    "                [2, 1]],\n",
    "               [[3, 2],\n",
    "                [2, 3]]])\n",
    "print(As.shape)\n",
    "Ainvs = t.linalg.inv(As)\n",
    "print(Ainvs.shape)"
   ]
  },
  {
   "cell_type": "markdown",
   "id": "c90419eb-bba1-4f16-9672-d58cf8037fa7",
   "metadata": {},
   "source": [
    "#### How to save and load NumPy objects\n",
    "\n",
    "This section covers np.save, np.savez, np.savetxt, np.load, np.loadtxt\n",
    "\n",
    "You will, at some point, want to save your arrays to disk and load them back without having to re-run the code. Fortunately, there are several ways to save and load objects with NumPy. The ndarray objects can be saved to and loaded from the disk files with loadtxt and savetxt functions that handle normal text files, load and save functions that handle NumPy binary files with a .npy file extension, and a savez function that handles NumPy files with a .npz file extension.\n",
    "\n",
    "The .npy and .npz files store data, shape, dtype, and other information required to reconstruct the ndarray in a way that allows the array to be correctly retrieved, even when the file is on another machine with different architecture.\n",
    "\n",
    "If you want to store a single ndarray object, store it as a .npy file using np.save. If you want to store more than one ndarray object in a single file, save it as a .npz file using np.savez. You can also save several arrays into a single file in compressed npz format with savez_compressed.\n",
    "\n",
    "It’s easy to save and load and array with np.save(). Just make sure to specify the array you want to save and a file name. For example, if you create this array:"
   ]
  },
  {
   "cell_type": "code",
   "execution_count": null,
   "id": "ebb0c554-88e8-40a9-b7a2-1a4bda6aa86e",
   "metadata": {},
   "outputs": [],
   "source": [
    "a = t.Tensor([1, 2, 3, 4, 5, 6])"
   ]
  },
  {
   "cell_type": "markdown",
   "id": "7687c7c5-d3e4-4792-96db-6624c283c7fa",
   "metadata": {},
   "source": [
    "You can save it as “filename.npy” with:"
   ]
  },
  {
   "cell_type": "code",
   "execution_count": null,
   "id": "3aeee9b4-a747-47fa-a370-48dd0bee56be",
   "metadata": {},
   "outputs": [],
   "source": [
    "t.save( a, open('filename.pkl', 'wb'))"
   ]
  },
  {
   "cell_type": "markdown",
   "id": "9f5260f4-abf2-40dd-9036-2789284c14e5",
   "metadata": {},
   "source": [
    "You can use np.load() to reconstruct your array."
   ]
  },
  {
   "cell_type": "code",
   "execution_count": null,
   "id": "29354814-c113-465c-9eb4-d10a37aee460",
   "metadata": {},
   "outputs": [],
   "source": [
    "b = t.load('filename.pkl')"
   ]
  },
  {
   "cell_type": "markdown",
   "id": "99ddca61-0eae-447a-8a49-2df682e489e8",
   "metadata": {},
   "source": [
    "If you want to check your array, you can run:"
   ]
  },
  {
   "cell_type": "code",
   "execution_count": null,
   "id": "053d5496-fe11-41ad-af1a-d9c338f6d3aa",
   "metadata": {},
   "outputs": [],
   "source": [
    "print(b)"
   ]
  }
 ],
 "metadata": {
  "kernelspec": {
   "display_name": "Python 3 (ipykernel)",
   "language": "python",
   "name": "python3"
  },
  "language_info": {
   "codemirror_mode": {
    "name": "ipython",
    "version": 3
   },
   "file_extension": ".py",
   "mimetype": "text/x-python",
   "name": "python",
   "nbconvert_exporter": "python",
   "pygments_lexer": "ipython3",
   "version": "3.10.9"
  }
 },
 "nbformat": 4,
 "nbformat_minor": 5
}
