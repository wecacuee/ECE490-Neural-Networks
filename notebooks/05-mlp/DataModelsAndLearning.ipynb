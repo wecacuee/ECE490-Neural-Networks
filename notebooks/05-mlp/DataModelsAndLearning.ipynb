{
 "cells": [
  {
   "cell_type": "markdown",
   "id": "8b6ab6fd",
   "metadata": {},
   "source": [
    "Before you turn this problem in, make sure everything runs as expected. First, **restart the kernel** (in the menubar, select Kernel$\\rightarrow$Restart) and then **run all cells** (in the menubar, select Cell$\\rightarrow$Run All).\n",
    "\n",
    "Make sure you fill in any place that says `YOUR CODE HERE` or \"YOUR ANSWER HERE\", as well as your name and collaborators below:"
   ]
  },
  {
   "cell_type": "code",
   "execution_count": null,
   "id": "816f5b45",
   "metadata": {},
   "outputs": [],
   "source": [
    "NAME = \"\"\n",
    "COLLABORATORS = \"\""
   ]
  },
  {
   "cell_type": "markdown",
   "id": "1e880c87",
   "metadata": {},
   "source": [
    "---"
   ]
  },
  {
   "cell_type": "markdown",
   "id": "bac3b003-040c-4f14-a737-95664754e398",
   "metadata": {},
   "source": [
    "# Data, Models and Learning\n",
    "\n",
    "Ref: MML Book (Chapter 8) https://mml-book.github.io/"
   ]
  },
  {
   "cell_type": "markdown",
   "id": "8b176a3f-f819-4dc1-b571-96e95f216519",
   "metadata": {},
   "source": [
    "There are three major components of a machine learning system\n",
    "\n",
    "1. Data\n",
    "\n",
    "    1. Example: Handwritten digit images and corresponding labels\n",
    "    2. Example: Road density and Salt concentration \n",
    "    3. Example: X-Y coordinate of point cloud and corresponding Z coordinate\n",
    "\n",
    "2. Models\n",
    "\n",
    "    1. Example: Linear model: Equation of line or plane\n",
    "    2. Example: Multi Layer perceptron: Two Linear models sandwiching a non-linear activation function.\n",
    "\n",
    "3. Learning\n",
    "\n",
    "    1. Example: Least square solution.\n",
    "    2. Example: Gradient descent."
   ]
  },
  {
   "cell_type": "markdown",
   "id": "158ebd4c-f617-4020-a053-a62e4c383c47",
   "metadata": {},
   "source": [
    "## Data as Vectors\n",
    "$\\newcommand{\\bfx}{\\mathbf{x}}$\n",
    "$\\newcommand{\\bfy}{\\mathbf{y}}$\n",
    "$\\newcommand{\\bfX}{\\mathbf{X}}$\n",
    "$\\newcommand{\\bbR}{\\mathbb{R}}$\n",
    "Let us consider the problem of identifying the digit from handwritten images based on data. This is called a supervised learning problem, where have a label $y_i$ (the digit) associated with each example $\\bfx_i$ (the handwritten image). The label $y_i$ has various other names, including target, response variable and annotation.\n",
    "A dataset is written as a set of example-\n",
    "label pairs $\\{(\\bfx_1 , y_1 ), \\dots , (\\bfx_i , y_i ), \\dots , (\\bfx_n , y_n )\\}$ . The features $\\{\\bfx_1, \\dots, \\bfx_n\\}$ are often concatenated and written as a big matrix $\\bfX \\in \\bbR^{n \\times d}$ and the labels $\\bfy \\in \\bbR^n$"
   ]
  },
  {
   "cell_type": "markdown",
   "id": "8ac33ea3-40ff-4dce-9c00-97f5213972b4",
   "metadata": {},
   "source": [
    "## Models as functions"
   ]
  },
  {
   "cell_type": "markdown",
   "id": "35850c43-1ab1-4977-8abb-e3eaed1d3e01",
   "metadata": {},
   "source": [
    "Once we have data in an appropriate vector representation, we can get to\n",
    "the business of constructing a predictive function (known as a predictor).\n",
    "\n",
    "There are two major approaches: \n",
    "1. a predictor as a function, $f : \\bbR^d \\mapsto \\bbR$\n",
    "\n",
    "    1. Example:\n",
    "        Linear Model: $f(\\bfx) = \\bfw^\\top \\bfx + w_0$\n",
    "    2. Example: MLP:\n",
    "        $f(\\bfx) = \\bfw_2^\\top \\sigma(\\bfW_1 \\bfx + \\bfw_0)$, where $\\sigma: \\bbR^m \\mapsto \\bbR^m$ is some non-linear activation function like $\\text{ReLU}$, $\\text{sigmoid}$ or $\\tanh$.\n",
    "        \n",
    "2. a predictor as a probabilistic model.\n",
    "    Later"
   ]
  },
  {
   "cell_type": "markdown",
   "id": "41340e80-b275-4bf9-92a3-9bda9e0f89ea",
   "metadata": {},
   "source": [
    "### Hypothesis class of functions\n",
    "\n",
    "\n",
    "A predictor $f : \\bbR^d \\mapsto \\bbR$, parametrized by $\\theta$ . We hope to be able to find a good parameter $\\theta^*$ such that we fit the data well, that is,\n",
    "$f (\\bfx_i , \\theta^* ) \\approxeq y_i$ for all $i = 1, \\dots , n$ \n",
    "\n",
    "We use the notation $\\hat{y}_i = f(\\bfx_i, \\theta^*)$ to represent the output of the predictor."
   ]
  },
  {
   "cell_type": "markdown",
   "id": "0ef47729-2794-4ae0-8667-7e328a67a8c1",
   "metadata": {},
   "source": [
    "### Loss Function for Training\n"
   ]
  },
  {
   "cell_type": "markdown",
   "id": "39012762-a54e-4100-a1d9-be7eeb5f5543",
   "metadata": {},
   "source": [
    "$\\newcommand{\\bfy}{\\mathbf{y}}$\n",
    "$$r_{\\text{emp}}(f, \\bfX, \\bfy) = \\frac{1}{n} \\sum_{i=1}^n l(y_i, \\hat{y}_i)$$, where $\\hat{y}_i = f(\\bfx_i, \\theta^*)$.\n",
    "\n",
    "$r_{\\text{emp}}(f, \\bfX, \\bfy)$ is called the empirical risk."
   ]
  },
  {
   "cell_type": "markdown",
   "id": "e78aaa0d-3043-4747-b3fe-e9409ec53f72",
   "metadata": {},
   "source": [
    "### Homework 5\n",
    "\n",
    "https://colab.research.google.com/github/wecacuee/ECE490-Neural-Networks/blob/master/notebooks/05-mlp/microtorch.ipynb"
   ]
  }
 ],
 "metadata": {
  "kernelspec": {
   "display_name": "Python 3 (ipykernel)",
   "language": "python",
   "name": "python3"
  },
  "language_info": {
   "codemirror_mode": {
    "name": "ipython",
    "version": 3
   },
   "file_extension": ".py",
   "mimetype": "text/x-python",
   "name": "python",
   "nbconvert_exporter": "python",
   "pygments_lexer": "ipython3",
   "version": "3.10.9"
  }
 },
 "nbformat": 4,
 "nbformat_minor": 5
}
