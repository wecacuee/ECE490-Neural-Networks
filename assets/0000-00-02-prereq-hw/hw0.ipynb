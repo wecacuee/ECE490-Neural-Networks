{
 "cells": [
  {
   "cell_type": "code",
   "execution_count": 1,
   "id": "fdcb5d2f-c09c-4dda-a656-b4dc2f2f76d4",
   "metadata": {},
   "outputs": [],
   "source": [
    "// DONOT edit this cell\n",
    "#include <stdbool.h>\n",
    "#include <stdlib.h>\n",
    "#include <stdio.h>\n",
    "\n",
    "int randint(int min, int max) {\n",
    "    return rand() % (max - min)  + min;\n",
    "}"
   ]
  },
  {
   "cell_type": "code",
   "execution_count": 2,
   "id": "150dea5b-284e-436a-a038-69a5ed094094",
   "metadata": {},
   "outputs": [],
   "source": [
    "long factorial(int n) {\n",
    "    // TODO: FIX ME\n",
    "    return 1;\n",
    "}"
   ]
  },
  {
   "cell_type": "code",
   "execution_count": 3,
   "id": "d5e5e71f-16c5-4734-af10-255612d8cff4",
   "metadata": {},
   "outputs": [],
   "source": [
    "// DONOT edit this cell\n",
    "bool test_factorial() {\n",
    "    short n = randint(0, 25);\n",
    "    if (factorial(n) != n*factorial(n-1)) {\n",
    "        fprintf(stderr, \"Fail for factorial(%d)\", n);\n",
    "        return false;\n",
    "    } else\n",
    "        return true;\n",
    "}"
   ]
  },
  {
   "cell_type": "code",
   "execution_count": 4,
   "id": "96082292-1f45-42e3-951a-6fffcdf5dbe0",
   "metadata": {},
   "outputs": [],
   "source": [
    "// EDIT this function. DONOT edit the signature of the function\n",
    "bool is_prime(long n, long* factor_p) {\n",
    "    // TODO: FIXME: Write a function. Extra credit for making it recursive\n",
    "    *factor_p = 2;\n",
    "    return false; // most numbers are not prime\n",
    "}"
   ]
  },
  {
   "cell_type": "code",
   "execution_count": 5,
   "id": "072df891-490f-4a08-b048-33e0dfd5d5b7",
   "metadata": {},
   "outputs": [],
   "source": [
    "// DONOT edit this cell\n",
    "bool test_prime() {\n",
    "    long factor;\n",
    "    int n = rand();\n",
    "    if (is_prime(n, &factor)) {\n",
    "        if (n % factor == 0) {\n",
    "            fprintf(stderr, \"Fail for is_prime(%d, %ld)\\n\", n, factor);\n",
    "            return false;\n",
    "        } else {\n",
    "            return true;\n",
    "        }\n",
    "    } else {\n",
    "        int i;\n",
    "        for (i = 0; i < 20; ++i)\n",
    "            factor = rand() % (n/2);\n",
    "            if (n % factor == 0) {\n",
    "                fprintf(stderr, \"Fail for is_prime(%d, %ld)\\n\", n, factor);\n",
    "                return false;\n",
    "            }\n",
    "        return true;\n",
    "    }\n",
    "}"
   ]
  },
  {
   "cell_type": "markdown",
   "id": "1728a20e-7ead-4bcb-8337-4cb63a7b0eae",
   "metadata": {},
   "source": [
    "# Problem 1\n",
    "\n",
    "The factorial of a non-negative integer n , denoted by $n!$, is the product of all positive integers less than or equal to n . The factorial of n also equals the product of n with the next smaller factorial:\n",
    "\n",
    "$n ! = n × ( n − 1 ) × ( n − 2 ) × ( n − 3 ) × ⋯ × 3 × 2 × 1 = n × ( n − 1 ) !$\n",
    "\n",
    "For example,\n",
    "$5 ! = 5 × 4 ! = 5 × 4 × 3 × 2 × 1 = 120.$\n",
    "The value of 0! is 1, according to the convention for an empty product.\n",
    "\n",
    "Write a recursive C function to compute factorial of a natural number n. It should pass the test_factorial function 10 times. test_factorial function is given. \n",
    "\n",
    "You can either edit this notebook in binder or download and edit the [test_factorial.c](https://vikasdhiman.info/ECE490-Neural-Networks/assets/0000-00-02-prereq-hw/test_factorial.c)"
   ]
  },
  {
   "cell_type": "code",
   "execution_count": 6,
   "id": "02d94955-9cc9-48d3-8bcc-18b3401ae9a3",
   "metadata": {},
   "outputs": [
    {
     "data": {
      "text/plain": [
       "1"
      ]
     },
     "execution_count": 6,
     "metadata": {},
     "output_type": "execute_result"
    }
   ],
   "source": [
    "// Please EDIT this cell. DONOT change the function signature\n",
    "long factorial(short n) {\n",
    "    // TODO: Write this recursive function in C\n",
    "    return 1;\n",
    "}\n",
    "factorial(3)"
   ]
  },
  {
   "cell_type": "code",
   "execution_count": 7,
   "id": "7788fc3d-24dc-4b11-b475-7adc51b5aa8f",
   "metadata": {
    "scrolled": true
   },
   "outputs": [
    {
     "name": "stderr",
     "output_type": "stream",
     "text": [
      "Fail for factorial(3) == 6\n",
      "Fail for factorial(5) == 120\n",
      "Fail for factorial(19)0: fail\n",
      "Fail for factorial(10)1: fail\n",
      "Fail for factorial(19)2: fail\n",
      "Fail for factorial(11)3: fail\n",
      "Fail for factorial(4)4: fail\n",
      "Fail for factorial(8)5: fail\n",
      "Fail for factorial(17)6: fail\n",
      "Fail for factorial(24)7: fail\n",
      "Fail for factorial(19)8: fail\n",
      "Fail for factorial(13)9: fail\n"
     ]
    }
   ],
   "source": [
    "    if (factorial(0) != 1)\n",
    "      fprintf(stderr, \"Fail for factorial(1) == 1\\n\");\n",
    "    if (factorial(3) != 6)\n",
    "      fprintf(stderr, \"Fail for factorial(3) == 6\\n\");\n",
    "    if (factorial(5) != 120)\n",
    "      fprintf(stderr, \"Fail for factorial(5) == 120\\n\");\n",
    "\n",
    "    short i;\n",
    "    for (i = 0; i < 10; ++i) {\n",
    "\tif (test_factorial())\n",
    "\t  printf(\"%d: pass\\n\", i);\n",
    "\telse\n",
    "\t  fprintf(stderr, \"%d: fail\\n\", i);\n",
    "    }\n"
   ]
  },
  {
   "cell_type": "markdown",
   "id": "e2d1a0d0-2bb3-4c91-93cc-9f2237c0653c",
   "metadata": {},
   "source": [
    "# Problem 2\n",
    "\n",
    "A natural number (1, 2, 3, 4, 5, 6, etc.) is called a prime number (or a prime) if it is greater than 1 and cannot be written as the product of two smaller natural numbers.\n",
    "\n",
    "Write a C function to calculate if a number is prime. Return 1 if it is prime and 0 if it is not a prime. If the number is not a prime number, then a factor exists. Return the factor as through a pointer.\n",
    "\n",
    "[test_prime.c](https://vikasdhiman.info/ECE490-Neural-Networks/assets/0000-00-02-prereq-hw/test_prime.c)"
   ]
  },
  {
   "cell_type": "code",
   "execution_count": 8,
   "id": "c01e16f3-7227-4d62-9c87-67c1de645fc0",
   "metadata": {},
   "outputs": [],
   "source": [
    "// EDIT this function. DONOT edit the signature of the function\n",
    "bool is_prime(long n, long* factor_p) {\n",
    "    // TODO: FIXME: Write a function. Extra credit for making it recursive\n",
    "    *factor_p = 2;\n",
    "    return false; // most numbers are not prime\n",
    "}\n"
   ]
  },
  {
   "cell_type": "code",
   "execution_count": 1,
   "id": "3721b7bf-242f-4482-bda0-3ab7fbca0b11",
   "metadata": {},
   "outputs": [
    {
     "name": "stderr",
     "output_type": "stream",
     "text": [
      "\u001b[1minput_line_7:7:11: \u001b[0m\u001b[0;1;31merror: \u001b[0m\u001b[1muse of undeclared identifier 'is_prime'\u001b[0m\n",
      "      if (is_prime(primes[i], &factor) != true) \n",
      "\u001b[0;1;32m          ^\n",
      "\u001b[0m\u001b[1minput_line_7:13:11: \u001b[0m\u001b[0;1;31merror: \u001b[0m\u001b[1muse of undeclared identifier 'is_prime'\u001b[0m\n",
      "      if (is_prime(composites[i], &factor) != false) \n",
      "\u001b[0;1;32m          ^\n",
      "\u001b[0m\u001b[1minput_line_7:18:11: \u001b[0m\u001b[0;1;31merror: \u001b[0m\u001b[1muse of undeclared identifier 'test_prime'\u001b[0m\n",
      "      if (test_prime()) \n",
      "\u001b[0;1;32m          ^\n",
      "\u001b[0m"
     ]
    },
    {
     "ename": "Interpreter Error",
     "evalue": "",
     "output_type": "error",
     "traceback": [
      "Interpreter Error: "
     ]
    }
   ],
   "source": [
    "  long factor;\n",
    "#define ARRSIZE 10\n",
    "  long primes[ARRSIZE] = {2, 3, 5, 7, 11, 13, 17, 19, 23, 29 };\n",
    "  short i;\n",
    "  for (i = 0; i < ARRSIZE; ++i)\n",
    "      if (is_prime(primes[i], &factor) != true) \n",
    "          fprintf(stderr, \"Fail for is_prime(%ld)\\n\", primes[i]);\n",
    "      else\n",
    "          printf(\"Pass\\n\");\n",
    "\n",
    "  long composites[ARRSIZE] = {1, 4, 6, 8, 10, 14, 21, 25, 27, 33 };\n",
    "  for (i = 0; i < ARRSIZE; ++i)\n",
    "      if (is_prime(composites[i], &factor) != false) \n",
    "          fprintf(stderr, \"Fail for is_prime(%ld)\\n\", composites[i]);\n",
    "      else\n",
    "          printf(\"Pass\\n\");\n",
    "\n",
    "  for (i = 0; i < 10; ++i) {\n",
    "      if (test_prime()) \n",
    "          printf(\"%d: pass\\n\", i);\n",
    "      else\n",
    "          fprintf(stderr, \"%d: fail\\n\", i);\n",
    "  }\n"
   ]
  },
  {
   "cell_type": "markdown",
   "id": "e6b3b0bd",
   "metadata": {},
   "source": [
    "# Problem 3\n",
    "\n",
    "Write a C function named `days()` that determines the number of days from the turn\n",
    "of the century for any date passed as a structure. The date structure should use the\n",
    "template\n",
    "\n",
    "```c\n",
    "struct date {\n",
    "    int month;\n",
    "    int day;\n",
    "    int year;\n",
    "}\n",
    "```\n",
    "\n",
    "In writing the `days()` function, use the convention that all years have 360 days and each\n",
    "month consists of 30 days. The function should return the number of days for any date\n",
    "structure passed to it. Make sure to declare the returned variable a long integer to reserve sufficient room for dates such as 12/19/89."
   ]
  }
 ],
 "metadata": {
  "kernelspec": {
   "display_name": "C++11",
   "language": "C++11",
   "name": "xcpp11"
  },
  "language_info": {
   "codemirror_mode": "text/x-c++src",
   "file_extension": ".cpp",
   "mimetype": "text/x-c++src",
   "name": "c++",
   "version": "11"
  }
 },
 "nbformat": 4,
 "nbformat_minor": 5
}
